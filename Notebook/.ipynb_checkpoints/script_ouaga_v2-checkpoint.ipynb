{
 "cells": [
  {
   "cell_type": "markdown",
   "metadata": {},
   "source": [
    "# Define GRASS GIS environments"
   ]
  },
  {
   "cell_type": "code",
   "execution_count": 1,
   "metadata": {
    "collapsed": true
   },
   "outputs": [],
   "source": [
    "## Import libraries needed for setting parameters of operating system \n",
    "import os\n",
    "import sys"
   ]
  },
  {
   "cell_type": "code",
   "execution_count": 2,
   "metadata": {
    "collapsed": true
   },
   "outputs": [],
   "source": [
    "#### When working on \"GRAZEO-1\"\n",
    "## Define GRASS GIS environment variables\n",
    "os.environ['GISBASE'] = 'C:\\\\Program Files\\\\GRASS GIS 7.3.svn'\n",
    "os.environ['PATH'] = 'C:\\\\Program Files\\\\GRASS GIS 7.3.svn\\\\lib;C:\\\\Program Files\\\\GRASS GIS 7.3.svn\\\\bin;C:\\\\Program Files\\\\GRASS GIS 7.3.svn\\\\extrabin' + os.pathsep + os.environ['PATH']\n",
    "os.environ['PATH'] = 'C:\\\\Program Files\\\\GRASS GIS 7.3.svn\\\\etc;C:\\\\Program Files\\\\GRASS GIS 7.3.svn\\\\etc\\\\python' + os.pathsep + os.environ['PATH']\n",
    "os.environ['PATH'] = 'C:\\\\Program Files\\\\GRASS GIS 7.3.svn\\\\Python27;C:\\\\Users\\\\Stagiaire\\\\AppData\\\\Roaming\\\\GRASS7\\\\addons\\\\scripts' + os.pathsep + os.environ['PATH']\n",
    "os.environ['PATH'] = 'C:\\\\ProgramData\\\\Anaconda2\\\\lib\\\\site-packages' + os.pathsep + os.environ['PATH']\n",
    "os.environ['GRASS_PYTHON'] = 'C:\\Program Files\\GRASS GIS 7.3.svn\\extrabin\\python.exe'\n",
    "os.environ['PYTHONPATH'] = 'C:\\\\Program Files\\\\GRASS GIS 7.3.svn\\\\etc\\\\python'\n",
    "os.environ['GIS_LOCK'] = '$$'\n",
    "os.environ['GISRC'] = 'C:\\\\Users\\\\Stagiaire\\\\AppData\\\\Roaming\\\\GRASS7\\\\rc'\n",
    "os.environ['GDAL_DATA'] = 'C:\\\\Program Files\\\\GRASS GIS 7.3.svn\\\\share\\\\gdal'"
   ]
  },
  {
   "cell_type": "code",
   "execution_count": 3,
   "metadata": {
    "collapsed": true
   },
   "outputs": [],
   "source": [
    "## Define GRASS-Python environment\n",
    "sys.path.append(os.path.join(os.environ['GISBASE'],'etc','python'))"
   ]
  },
  {
   "cell_type": "markdown",
   "metadata": {},
   "source": [
    "# Calling GRASS GIS modules"
   ]
  },
  {
   "cell_type": "code",
   "execution_count": 4,
   "metadata": {
    "collapsed": false
   },
   "outputs": [],
   "source": [
    "\n",
    "\n",
    "## Import library for temporary files creation \n",
    "import tempfile \n",
    "\n",
    "## Import Numpy library\n",
    "import numpy as np\n",
    "\n",
    "## import math library\n",
    "import math as ma\n",
    "\n",
    "## Import Pandas library (View and manipulaiton of tables)\n",
    "from pandas import Series, DataFrame, read_csv\n",
    "import pandas as pd\n",
    "import csv\n",
    "## Import GRASS GIS Python Scripting Library\n",
    "import grass.script as gscript\n",
    "\n",
    "##Import vector package from pygrass library\n",
    "from grass.pygrass.vector import VectorTopo\n",
    "\n",
    "## Import Random Forest library\n",
    "from sklearn.ensemble import RandomForestRegressor\n",
    "\n",
    "## Import matplotlib library\n",
    "import matplotlib.pyplot as plt\n",
    "## Import sqlite3 library\n",
    "import sqlite3"
   ]
  },
  {
   "cell_type": "markdown",
   "metadata": {},
   "source": [
    "# Part I"
   ]
  },
  {
   "cell_type": "markdown",
   "metadata": {},
   "source": [
    "This part is dedicated for applying the simplest approach for the creating a population density map using the dasymetric mapping. The most important issue is to create a weighting. The population will be distributed based on this weighting layer using the GRASS GIS module [v.area.weigh](https://grass.osgeo.org/grass72/manuals/addons/v.area.weigh.html)"
   ]
  },
  {
   "cell_type": "markdown",
   "metadata": {},
   "source": [
    "## Functions' definition for the first part of the script"
   ]
  },
  {
   "cell_type": "markdown",
   "metadata": {},
   "source": [
    "All the functions used to execute the first part are defined in this section. Here we create a simple weighting layer for the dasymetry. It can be:\n",
    "* The proportion of built up areas in each grid\n",
    "* Or the sum of buildings' hight within each grid\n"
   ]
  },
  {
   "cell_type": "markdown",
   "metadata": {},
   "source": [
    "## Function for preparing data"
   ]
  },
  {
   "cell_type": "markdown",
   "metadata": {},
   "source": [
    "This function is defined to set the tile size (as a user input) and to extract the resolution and the different categories from the Land Cover"
   ]
  },
  {
   "cell_type": "code",
   "execution_count": 5,
   "metadata": {
    "collapsed": false
   },
   "outputs": [],
   "source": [
    "def Data_prep(Land_cover):\n",
    "    tile_size = input(\"Entrez la taille de la tuile en metre : \")\n",
    "    info = gscript.raster_info(Land_cover)\n",
    "    nsres=info.nsres\n",
    "    ewres=info.ewres  \n",
    "    L = []\n",
    "    for cl in (gscript.parse_command('r.category',map= Land_cover)):\n",
    "        L.append(cl)\n",
    "    return tile_size, nsres, ewres, L"
   ]
  },
  {
   "cell_type": "markdown",
   "metadata": {},
   "source": [
    "## Function for creating a weighting layer: binary approach"
   ]
  },
  {
   "cell_type": "markdown",
   "metadata": {},
   "source": [
    "This function is defined to create a raster containing the proportion of all buildings or selected ones areas in each pixel. A threshold for buildings' hight is set to select buildings which hight is higher than this value\n",
    "Inputs are:\n",
    "* The Land Cover layer \n",
    "* The nDSM\n",
    "* The category of the built up areas\n",
    "* A threshold for the buildings hight (default value is 0)"
   ]
  },
  {
   "cell_type": "code",
   "execution_count": 6,
   "metadata": {
    "collapsed": true
   },
   "outputs": [],
   "source": [
    "def weighting_layer(Land_cover, nDSM, building_class, threshold_in_cm=0 ):\n",
    "    gscript.run_command('g.region', raster=Land_cover, nsres=nsres, ewres=ewres)\n",
    "    threshold_in_m = str(threshold_in_cm*(10**(-2)))\n",
    "    threshold_in_cm = str(threshold_in_cm)\n",
    "    building_class = str(building_class)\n",
    "    if (threshold_in_cm == '0'):\n",
    "        building = 'binary_class_'+str(building_class)\n",
    "        gscript.run_command('r.mapcalc', expression=building+'=if('+Land_cover+'=='+building_class+',1,0)',overwrite=True)\n",
    "        proportion='proportion_binary_class_'+str(building_class)\n",
    "        density='pop_density_binary_class_'+str(building_class)\n",
    "        somme = 'somme_binary_classs'+str(building_class)\n",
    "    else:\n",
    "        building = 'sup_'+threshold_in_cm\n",
    "        gscript.run_command('r.mapcalc', expression=building+'=if(( '+Land_cover+'=='+building_class+') & ( '+nDSM+'>= '+threshold_in_m+'),1,0 )',overwrite=True)\n",
    "        proportion ='proportion_sup_'+threshold_in_cm\n",
    "        density='pop_density_sup_'+threshold_in_cm\n",
    "        somme = 'somme_sup_'+threshold_in_cm\n",
    "        \n",
    "    gscript.run_command('g.region', raster= Land_cover, res=tile_size)\n",
    "    gscript.run_command('r.resamp.stats',  input=building, output=somme, method='sum',overwrite=True)#Somme\n",
    "    gscript.run_command('r.mapcalc', expression= proportion+'= ((('+ somme+')*('+str(ewres*nsres)+')  / ('+str(tile_size**2)+'))*100) ', overwrite=True) \n",
    "    return building,proportion,density\n",
    "        \n"
   ]
  },
  {
   "cell_type": "markdown",
   "metadata": {},
   "source": [
    "## Function for creating a weighting layer: hight approach"
   ]
  },
  {
   "cell_type": "markdown",
   "metadata": {},
   "source": [
    "Function that creates a raster whose pixels contain the sum of hight of all buildings or selected ones. Inputs are:\n",
    "* Binary layer : 1 for built up areas and 0 for non built up\n",
    "* Land Cover\n",
    "* nDSM\n",
    "* A threshold for the selection (0 as default value)"
   ]
  },
  {
   "cell_type": "code",
   "execution_count": 7,
   "metadata": {
    "collapsed": true
   },
   "outputs": [],
   "source": [
    "def weighting_layer__hight(building, Land_cover, nDSM, threshold_in_cm=0):\n",
    "    gscript.run_command('g.region', raster=Land_cover, nsres=nsres, ewres=ewres)\n",
    "    threshold_in_cm = str(threshold_in_cm)\n",
    "    gscript.run_command('r.mapcalc', expression='building_hight=if('+building+'==1,'+nDSM+'   ,0   )',overwrite=True)\n",
    "    proportion='proportion_hight'+threshold_in_cm\n",
    "    density='pop_density_hight'+threshold_in_cm\n",
    "    gscript.run_command('g.region', raster= Land_cover, res=tile_size)\n",
    "    gscript.run_command('r.resamp.stats',  input='building_hight', output=proportion, method='sum',overwrite=True)\n",
    "    return proportion, density\n",
    "\n",
    "    "
   ]
  },
  {
   "cell_type": "markdown",
   "metadata": {},
   "source": [
    "## Function for redistributing the population "
   ]
  },
  {
   "cell_type": "markdown",
   "metadata": {},
   "source": [
    "This function redistributes the population using a weight layer. It uses the GRASS GIS module [v.area.weigh](https://grass.osgeo.org/grass72/manuals/addons/v.area.weigh.html)"
   ]
  },
  {
   "cell_type": "code",
   "execution_count": 8,
   "metadata": {
    "collapsed": true
   },
   "outputs": [],
   "source": [
    "def dasymetric_mapping(vectorLayer, proportion, density,feature):\n",
    "    gscript.run_command('v.area.weigh', vector=vectorLayer, weight=proportion, output=density, column=feature,overwrite=True)\n"
   ]
  },
  {
   "cell_type": "markdown",
   "metadata": {},
   "source": [
    "## Function for running the dasymetry with a simple weighting layer"
   ]
  },
  {
   "cell_type": "markdown",
   "metadata": {},
   "source": [
    "This function runs the dasymetry by choosing the mode of creation of the weighting layer.\n",
    "* If the bool_hight parameter is set to True, the weighting layer will contain the buildings hight \n",
    "* If not, it will be the proportion of built up areas\n",
    "* For both cases a threshold can be defined (0 as default value)"
   ]
  },
  {
   "cell_type": "code",
   "execution_count": 9,
   "metadata": {
    "collapsed": true
   },
   "outputs": [],
   "source": [
    "def main(Land_cover, nDSM, vectorLayer, building_class,feature, bool_hight, threshold_in_cm=0):\n",
    " \n",
    "    weightFunction = weighting_layer(Land_cover, nDSM, building_class, threshold_in_cm )\n",
    "    building = weightFunction[0]\n",
    "    if (bool_hight):\n",
    "        weight_Hight_Function = weighting_layer__hight(building, Land_cover, nDSM, threshold_in_cm) #weighting layer depending on the buildings' height (requires executing weighting_layer function before) \n",
    "        proportion = weight_Hight_Function[0] \n",
    "        density = weight_Hight_Function [1]\n",
    "        print(proportion,density)\n",
    "    else:\n",
    "        proportion = weightFunction[1]\n",
    "        density = weightFunction[2]\n",
    "    dasymetric_mapping(vectorLayer, proportion, density,feature)"
   ]
  },
  {
   "cell_type": "markdown",
   "metadata": {},
   "source": [
    "# Running the first part"
   ]
  },
  {
   "cell_type": "markdown",
   "metadata": {},
   "source": [
    "In this section all input variables are set and the functions all called to execute the script.\n",
    "Inputs are:\n",
    "* Land Cover layer\n",
    "* nDSM layer\n",
    "* The tile size\n",
    "* The vector layer of the administrative units: Its attribute table must contain the ID of each unit and the census data (For our case study ID='Sect_ID' or 'OBJECTID' and the census column ='Total'"
   ]
  },
  {
   "cell_type": "code",
   "execution_count": 10,
   "metadata": {
    "collapsed": false
   },
   "outputs": [
    {
     "name": "stdout",
     "output_type": "stream",
     "text": [
      "Entrez la taille de la tuile en metre : 100\n",
      "entrer le nom de la colonne contenant l'id des unitÃ©s administratives'Sect_ID'\n"
     ]
    }
   ],
   "source": [
    "Land_cover = 'LC_coupe'\n",
    "nDSM = 'nDSM_mosaik_georef_ordre2'\n",
    "vectorLayer = 'ouaga_population'\n",
    "Data = Data_prep(Land_cover)\n",
    "tile_size = Data[0]\n",
    "nsres = Data[1]\n",
    "ewres = Data[2]\n",
    "classes_list = Data[3]\n",
    "id_admin = input(\"entrer le nom de la colonne contenant l'id des unités administratives\")\n",
    "gscript.run_command('g.region', raster=Land_cover, nsres=nsres, ewres=ewres)\n",
    "main(Land_cover, nDSM, vectorLayer, 11, 'Total',False)\n"
   ]
  },
  {
   "cell_type": "markdown",
   "metadata": {},
   "source": [
    "# Part II"
   ]
  },
  {
   "cell_type": "markdown",
   "metadata": {},
   "source": [
    "This part will be dedicated to the second appraoch for creating a population density map using dasymetric mapping. Here the weigting layer is generated by Random Forest. In fact,the model is trained at the administrative units level. Covariates are the proportion of each Land Cover's class and values predicted are the log population density after applying this model to the grid level. We transform the log into population density and we obtain the weighting layer."
   ]
  },
  {
   "cell_type": "markdown",
   "metadata": {},
   "source": [
    "## Functions' definition for the second part"
   ]
  },
  {
   "cell_type": "markdown",
   "metadata": {},
   "source": [
    "In this section, all functions used in the script are defined. This part is dedicated to create a weighting layer estimated by Random Forest and then apply the dasymetry.\n",
    "These functions might be used in part III."
   ]
  },
  {
   "cell_type": "markdown",
   "metadata": {},
   "source": [
    "## Function for calculating the proportion of each class within each grid"
   ]
  },
  {
   "cell_type": "markdown",
   "metadata": {},
   "source": [
    "This function takes as input:\n",
    "* A gridded vecor \n",
    "* A list of some classes of the Land Cover (If is not set, the proportions of all classes are calculated)"
   ]
  },
  {
   "cell_type": "code",
   "execution_count": 11,
   "metadata": {
    "collapsed": true
   },
   "outputs": [],
   "source": [
    "def proportion_class_grid(vectorLayer, liste = []):\n",
    "    if (len(liste)==0):\n",
    "        liste = classes_list\n",
    "    for cl in liste:\n",
    "        gscript.run_command('g.region', raster=Land_cover, nsres=nsres, ewres=ewres)\n",
    "        #add a new column\n",
    "        gscript.run_command('v.db.addcolumn', map_=vectorLayer, column= \"proportion_\"+str(cl)+\" double precision\")\n",
    "        #call a function which calculate the class's proportion\n",
    "        proportion = weighting_layer(Land_cover, nDSM, cl)[1]\n",
    "        #filling the attribute table whith this proportion\n",
    "        gscript.run_command('v.what.rast', map_=vectorLayer, type='centroid', raster=proportion, column= \"proportion_\"+str(cl))"
   ]
  },
  {
   "cell_type": "markdown",
   "metadata": {},
   "source": [
    "## Function for changing the administrative boundaries into a staircase appearence"
   ]
  },
  {
   "cell_type": "markdown",
   "metadata": {},
   "source": [
    "The purpose here is to make every grid be contained in only one administrative unit"
   ]
  },
  {
   "cell_type": "code",
   "execution_count": 12,
   "metadata": {
    "collapsed": true
   },
   "outputs": [],
   "source": [
    "def admin_boundaries(vectorLayer, id_admin):\n",
    "    gscript.run_command('g.region', raster=Land_cover, res=tile_size)\n",
    "    gscript.run_command('v.to.rast', input= vectorLayer, type='area', output=vectorLayer+'_rast', use='cat', overwrite=True)\n",
    "    gscript.run_command('r.to.vect', input=vectorLayer+'_rast', output= vectorLayer+'_rastTovect', type='area', column=id_admin, flags='v',overwrite=True)\n",
    "    gscript.run_command('v.db.join', map=vectorLayer+'_rastTovect', column='cat',other_table=vectorLayer, other_column='cat')"
   ]
  },
  {
   "cell_type": "markdown",
   "metadata": {},
   "source": [
    "## Function for calculating the proportion of classes within each administrative unit"
   ]
  },
  {
   "cell_type": "code",
   "execution_count": 13,
   "metadata": {
    "collapsed": true
   },
   "outputs": [],
   "source": [
    "def proportion_class_admin(vectorLayer,liste = []):\n",
    "    if (len(liste)==0):\n",
    "        liste = classes_list\n",
    "    for cl in liste:\n",
    "        gscript.run_command('v.rast.stats', map=vectorLayer,raster='proportion_binary_class_'+str(cl), column_prefix='proportion_'+str(cl), method='average', flags='c')"
   ]
  },
  {
   "cell_type": "markdown",
   "metadata": {},
   "source": [
    "## 1-Preparing data"
   ]
  },
  {
   "cell_type": "markdown",
   "metadata": {},
   "source": [
    "In this section, we prepare data and calculate covariates for random forest (at grid and administrative unit level)"
   ]
  },
  {
   "cell_type": "markdown",
   "metadata": {},
   "source": [
    "### Creating a gridded vector"
   ]
  },
  {
   "cell_type": "markdown",
   "metadata": {},
   "source": [
    "To create a gridded vector, we need to set the region to the Land Cover's hold and the resolution to the tile size. Then, we create a raster containing random values and we clump it to have a unique value for each grid. Finally we convert it into a vector layer."
   ]
  },
  {
   "cell_type": "code",
   "execution_count": 31,
   "metadata": {
    "collapsed": false
   },
   "outputs": [
    {
     "data": {
      "text/plain": [
       "0"
      ]
     },
     "execution_count": 31,
     "metadata": {},
     "output_type": "execute_result"
    }
   ],
   "source": [
    "gscript.run_command('g.region', raster= Land_cover, res=tile_size)\n",
    "gscript.mapcalc(\"empty_grid=rand(0 ,999999999 )\", overwrite=True,seed='auto' )\n",
    "gscript.run_command('r.clump',input='empty_grid',output='empty_grid_Clump',overwrite=True)\n",
    "gscript.run_command('r.to.vect',input='empty_grid_Clump',output='grid_vector', type='area', overwrite=True)\n"
   ]
  },
  {
   "cell_type": "markdown",
   "metadata": {},
   "source": [
    "### Covariates' calculation"
   ]
  },
  {
   "cell_type": "markdown",
   "metadata": {},
   "source": [
    "#### Covariates at grid level"
   ]
  },
  {
   "cell_type": "code",
   "execution_count": 16,
   "metadata": {
    "collapsed": false
   },
   "outputs": [],
   "source": [
    "proportion_class_grid('grid_vector')"
   ]
  },
  {
   "cell_type": "markdown",
   "metadata": {},
   "source": [
    "Now we import the attribute table of the grid vector and we set NULL values,that cause a problem for Random Forest, to 0 "
   ]
  },
  {
   "cell_type": "code",
   "execution_count": 22,
   "metadata": {
    "collapsed": false
   },
   "outputs": [
    {
     "name": "stdout",
     "output_type": "stream",
     "text": [
      "c:\\users\\stagia~1\\appdata\\local\\temp\n"
     ]
    }
   ],
   "source": [
    "outputfile=tempfile.gettempdir()\n",
    "#export the attribute table of the gridded vector\n",
    "gscript.run_command('db.out.ogr', input=\"grid_vector\", output= outputfile+\"\\\\grid_vector.csv\" , format='CSV')\n",
    "df_grid = pd.read_csv(outputfile+\"\\\\grid_vector.csv\")\n",
    "## changing null values to zero\n",
    "features = df_grid.columns[:]\n",
    "for i in features:\n",
    "    for j in range(len(df_grid)):\n",
    "        if(ma.isnan(df_grid[i].values[j])):\n",
    "            df_grid[i].values[j] = 0"
   ]
  },
  {
   "cell_type": "markdown",
   "metadata": {},
   "source": [
    "#### Covariates at administrative unit level"
   ]
  },
  {
   "cell_type": "code",
   "execution_count": 23,
   "metadata": {
    "collapsed": false
   },
   "outputs": [],
   "source": [
    "admin_boundaries(vectorLayer, id_admin)"
   ]
  },
  {
   "cell_type": "code",
   "execution_count": 24,
   "metadata": {
    "collapsed": false
   },
   "outputs": [],
   "source": [
    "proportion_class_admin(vectorLayer+'_rastTovect')"
   ]
  },
  {
   "cell_type": "markdown",
   "metadata": {},
   "source": [
    "Here we calculate the log population density at administrative unit level. This will be the response variable for the Random Forest model. These steps are followed :\n",
    "* Add a new column in the attribute table of the administrative units vector called \"natural_log_population_density\"\n",
    "* Exoprt the attribute table to a csv file\n",
    "* Import the csv as a dataframe\n",
    "* Calculate the log of the population denstiy : log(population/area)\n",
    "* Export the dataframe to csv\n",
    "* Imoprt the csv to grass database\n",
    "* make a juncture between the new table imported and the attribute table\n",
    "\n",
    "PS : \n",
    "* we can read directly the attribute table,as a dataframe, from the datbase but the execution time is almost the same \n",
    "* we tried to calculate the log from with SQL request but it didn't work (due to the log )"
   ]
  },
  {
   "cell_type": "code",
   "execution_count": 25,
   "metadata": {
    "collapsed": false
   },
   "outputs": [
    {
     "data": {
      "text/plain": [
       "0"
      ]
     },
     "execution_count": 25,
     "metadata": {},
     "output_type": "execute_result"
    }
   ],
   "source": [
    "#add a new column\n",
    "gscript.run_command('v.db.addcolumn', map_=vectorLayer+'_rastTovect', column= \"natural_log_population_density double precision\")"
   ]
  },
  {
   "cell_type": "code",
   "execution_count": 26,
   "metadata": {
    "collapsed": false
   },
   "outputs": [
    {
     "data": {
      "text/plain": [
       "0"
      ]
     },
     "execution_count": 26,
     "metadata": {},
     "output_type": "execute_result"
    }
   ],
   "source": [
    "#exporting the new attribute table\n",
    "gscript.run_command('db.out.ogr',input=vectorLayer+'_rastTovect', output=outputfile+\"\\\\\"+vectorLayer+\"_rastTovect.csv\",format='CSV',overwrite=True)"
   ]
  },
  {
   "cell_type": "code",
   "execution_count": 27,
   "metadata": {
    "collapsed": true
   },
   "outputs": [],
   "source": [
    "attr_table = pd.read_csv(outputfile+\"\\\\\"+vectorLayer+\"_rastTovect.csv\")\n",
    "#filling the log population column\n",
    "dens = attr_table['natural_log_population_density']\n",
    "Total = attr_table['Total']\n",
    "Area = attr_table['Area']\n",
    "for i in range(len(dens.values)):\n",
    "    dens.values[i]=np.log(Total.values[i]/Area.values[i])\n",
    "#export the dataframe to the csv\n",
    "attr_table.to_csv(path_or_buf=outputfile+\"\\\\\"+vectorLayer+\"_rastTovect.csv\")"
   ]
  },
  {
   "cell_type": "code",
   "execution_count": 28,
   "metadata": {
    "collapsed": false
   },
   "outputs": [
    {
     "data": {
      "text/plain": [
       "0"
      ]
     },
     "execution_count": 28,
     "metadata": {},
     "output_type": "execute_result"
    }
   ],
   "source": [
    "#importing the csv to the database\n",
    "gscript.run_command('db.in.ogr', input=outputfile+\"\\\\\"+vectorLayer+\"_rastTovect.csv\", output='csv_table_in', overwrite=True)\n",
    "# join the two tables\n",
    "gscript.run_command('v.db.join', map=vectorLayer+'_rastTovect', column=id_admin, other_table='csv_table_in', other_column=id_admin)"
   ]
  },
  {
   "cell_type": "markdown",
   "metadata": {},
   "source": [
    "## 2-Creation of the Random Forest model and prediction"
   ]
  },
  {
   "cell_type": "markdown",
   "metadata": {},
   "source": [
    "The Random Forest model is trained at the administrative units level. Its covariates are the proportions of Land Cover's classes within each administrative unit. The model uses the log population density for its futur prediction.\n",
    "Here we set the number of trees of the model to 200 and the oob_score to True to be able to print the out of bag error."
   ]
  },
  {
   "cell_type": "code",
   "execution_count": 29,
   "metadata": {
    "collapsed": false
   },
   "outputs": [
    {
     "ename": "ValueError",
     "evalue": "Number of features of the model must match the input. Model n_features is 10 and input n_features is 8 ",
     "output_type": "error",
     "traceback": [
      "\u001b[0;31m---------------------------------------------------------------------------\u001b[0m",
      "\u001b[0;31mValueError\u001b[0m                                Traceback (most recent call last)",
      "\u001b[0;32m<ipython-input-29-1d3fcbc472a3>\u001b[0m in \u001b[0;36m<module>\u001b[0;34m()\u001b[0m\n\u001b[1;32m      6\u001b[0m \u001b[0mregressor\u001b[0m \u001b[1;33m=\u001b[0m \u001b[0mRandomForestRegressor\u001b[0m\u001b[1;33m(\u001b[0m\u001b[0mn_estimators\u001b[0m \u001b[1;33m=\u001b[0m \u001b[1;36m200\u001b[0m\u001b[1;33m,\u001b[0m \u001b[0moob_score\u001b[0m \u001b[1;33m=\u001b[0m \u001b[0mTrue\u001b[0m\u001b[1;33m)\u001b[0m\u001b[1;33m\u001b[0m\u001b[0m\n\u001b[1;32m      7\u001b[0m \u001b[0mregressor\u001b[0m\u001b[1;33m.\u001b[0m\u001b[0mfit\u001b[0m\u001b[1;33m(\u001b[0m\u001b[0mx\u001b[0m\u001b[1;33m,\u001b[0m \u001b[0my\u001b[0m\u001b[1;33m)\u001b[0m\u001b[1;33m\u001b[0m\u001b[0m\n\u001b[0;32m----> 8\u001b[0;31m \u001b[0mprediction\u001b[0m \u001b[1;33m=\u001b[0m \u001b[0mregressor\u001b[0m\u001b[1;33m.\u001b[0m\u001b[0mpredict\u001b[0m\u001b[1;33m(\u001b[0m\u001b[0mx_grid\u001b[0m\u001b[1;33m)\u001b[0m\u001b[1;33m\u001b[0m\u001b[0m\n\u001b[0m",
      "\u001b[0;32mC:\\ProgramData\\Anaconda2\\lib\\site-packages\\sklearn\\ensemble\\forest.pyc\u001b[0m in \u001b[0;36mpredict\u001b[0;34m(self, X)\u001b[0m\n\u001b[1;32m    683\u001b[0m         \"\"\"\n\u001b[1;32m    684\u001b[0m         \u001b[1;31m# Check data\u001b[0m\u001b[1;33m\u001b[0m\u001b[1;33m\u001b[0m\u001b[0m\n\u001b[0;32m--> 685\u001b[0;31m         \u001b[0mX\u001b[0m \u001b[1;33m=\u001b[0m \u001b[0mself\u001b[0m\u001b[1;33m.\u001b[0m\u001b[0m_validate_X_predict\u001b[0m\u001b[1;33m(\u001b[0m\u001b[0mX\u001b[0m\u001b[1;33m)\u001b[0m\u001b[1;33m\u001b[0m\u001b[0m\n\u001b[0m\u001b[1;32m    686\u001b[0m \u001b[1;33m\u001b[0m\u001b[0m\n\u001b[1;32m    687\u001b[0m         \u001b[1;31m# Assign chunk of trees to jobs\u001b[0m\u001b[1;33m\u001b[0m\u001b[1;33m\u001b[0m\u001b[0m\n",
      "\u001b[0;32mC:\\ProgramData\\Anaconda2\\lib\\site-packages\\sklearn\\ensemble\\forest.pyc\u001b[0m in \u001b[0;36m_validate_X_predict\u001b[0;34m(self, X)\u001b[0m\n\u001b[1;32m    353\u001b[0m                                  \"call `fit` before exploiting the model.\")\n\u001b[1;32m    354\u001b[0m \u001b[1;33m\u001b[0m\u001b[0m\n\u001b[0;32m--> 355\u001b[0;31m         \u001b[1;32mreturn\u001b[0m \u001b[0mself\u001b[0m\u001b[1;33m.\u001b[0m\u001b[0mestimators_\u001b[0m\u001b[1;33m[\u001b[0m\u001b[1;36m0\u001b[0m\u001b[1;33m]\u001b[0m\u001b[1;33m.\u001b[0m\u001b[0m_validate_X_predict\u001b[0m\u001b[1;33m(\u001b[0m\u001b[0mX\u001b[0m\u001b[1;33m,\u001b[0m \u001b[0mcheck_input\u001b[0m\u001b[1;33m=\u001b[0m\u001b[0mTrue\u001b[0m\u001b[1;33m)\u001b[0m\u001b[1;33m\u001b[0m\u001b[0m\n\u001b[0m\u001b[1;32m    356\u001b[0m \u001b[1;33m\u001b[0m\u001b[0m\n\u001b[1;32m    357\u001b[0m     \u001b[1;33m@\u001b[0m\u001b[0mproperty\u001b[0m\u001b[1;33m\u001b[0m\u001b[0m\n",
      "\u001b[0;32mC:\\ProgramData\\Anaconda2\\lib\\site-packages\\sklearn\\tree\\tree.py\u001b[0m in \u001b[0;36m_validate_X_predict\u001b[0;34m(self, X, check_input)\u001b[0m\n\u001b[1;32m    374\u001b[0m                              \u001b[1;34m\"match the input. Model n_features is %s and \"\u001b[0m\u001b[1;33m\u001b[0m\u001b[0m\n\u001b[1;32m    375\u001b[0m                              \u001b[1;34m\"input n_features is %s \"\u001b[0m\u001b[1;33m\u001b[0m\u001b[0m\n\u001b[0;32m--> 376\u001b[0;31m                              % (self.n_features_, n_features))\n\u001b[0m\u001b[1;32m    377\u001b[0m \u001b[1;33m\u001b[0m\u001b[0m\n\u001b[1;32m    378\u001b[0m         \u001b[1;32mreturn\u001b[0m \u001b[0mX\u001b[0m\u001b[1;33m\u001b[0m\u001b[0m\n",
      "\u001b[0;31mValueError\u001b[0m: Number of features of the model must match the input. Model n_features is 10 and input n_features is 8 "
     ]
    }
   ],
   "source": [
    "### RF\n",
    "df_admin_natural_log =pd.read_csv(outputfile+\"\\\\\"+vectorLayer+\"_rastTovect.csv\") \n",
    "x = df_admin_natural_log.loc[:,'proportion_11_average':'proportion_21_average']\n",
    "y = df_admin_natural_log['natural_log_population_density']\n",
    "x_grid = df_grid.loc[:,'proportion_11':'proportion_21']\n",
    "regressor = RandomForestRegressor(n_estimators = 200, oob_score = True)\n",
    "regressor.fit(x, y)\n",
    "prediction = regressor.predict(x_grid)"
   ]
  },
  {
   "cell_type": "markdown",
   "metadata": {},
   "source": [
    "### Covariates' importance study"
   ]
  },
  {
   "cell_type": "markdown",
   "metadata": {},
   "source": [
    "Here we plot the feature importances using the attribute feauture-importances of the model."
   ]
  },
  {
   "cell_type": "code",
   "execution_count": 25,
   "metadata": {
    "collapsed": false
   },
   "outputs": [
    {
     "data": {
      "image/png": "[encoded data removed]",
      "text/plain": [
       "<matplotlib.figure.Figure at 0x130daa58>"
      ]
     },
     "metadata": {},
     "output_type": "display_data"
    }
   ],
   "source": [
    "## covariates' importance study\n",
    "importances = regressor.feature_importances_\n",
    "indices = np.argsort(importances)[::-1]\n",
    "x_axis = importances[indices][::-1]\n",
    "idx = indices[::-1]\n",
    "y_axis = range(x.shape[1])\n",
    "plt.scatter(x_axis,y_axis)\n",
    "Labels = []\n",
    "for i in range(x.shape[1]):\n",
    "    Labels.append(x_grid.columns[idx[i]])\n",
    "plt.yticks(y_axis, Labels)\n",
    "plt.title(\"Feature importances\")\n",
    "plt.show()"
   ]
  },
  {
   "cell_type": "markdown",
   "metadata": {},
   "source": [
    "## 3-Exploitation of the Random Forest output"
   ]
  },
  {
   "cell_type": "markdown",
   "metadata": {},
   "source": [
    "In this section, we transform the predicted log population density into population density which will be considered as weight. Then, we export the results, we join them with the attribute table of the gridded vector and create a raster whose pixels contain the value of the predicted weight. Finally we use this weighting layer for the dasymetry as above using the [v.area.weigh](https://grass.osgeo.org/grass72/manuals/addons/v.area.weigh.html) "
   ]
  },
  {
   "cell_type": "code",
   "execution_count": 26,
   "metadata": {
    "collapsed": true
   },
   "outputs": [],
   "source": [
    "# Transform the log population density into population density\n",
    "df1 = df_grid['cat']\n",
    "df2 = pd.DataFrame(prediction, columns=['natural_log'])\n",
    "df_weight = pd.concat((df1,df2), axis=1)\n",
    "col = df_weight.apply ( lambda row : np.exp(row[\"natural_log\"]), axis = 1 ) \n",
    "df_weight [\"weight_after_nat_log\"] = col"
   ]
  },
  {
   "cell_type": "code",
   "execution_count": 27,
   "metadata": {
    "collapsed": true
   },
   "outputs": [],
   "source": [
    "#Export the dataframe to a csv file\n",
    "df_weight.to_csv(path_or_buf=outputfile+\"\\\\weight.csv\")\n",
    "gscript.run_command('g.region', raster=Land_cover, res=tile_size)\n",
    "# create a csvt file containing columns types\n",
    "f = open(outputfile+\"\\\\weight.csvt\", 'w')\n",
    "header_string = '\"Integer\", \"Integer\",\"Real\",\"Real\"'\n",
    "f.write(header_string)\n",
    "f.close()"
   ]
  },
  {
   "cell_type": "code",
   "execution_count": 28,
   "metadata": {
    "collapsed": false
   },
   "outputs": [
    {
     "data": {
      "text/plain": [
       "0"
      ]
     },
     "execution_count": 28,
     "metadata": {},
     "output_type": "execute_result"
    }
   ],
   "source": [
    "#importing the csv to the database\n",
    "gscript.run_command('db.in.ogr', input=outputfile+\"\\\\weight.csv\", output='weight_natural_log_table', overwrite=True)\n",
    "# join the two tables\n",
    "gscript.run_command('v.db.join', map='grid_vector', column='cat', other_table='weight_natural_log_table', other_column='cat_')\n",
    "#converting the vector layer to a raster one containing the weight generated by RF\n",
    "gscript.run_command('v.to.rast', input='grid_vector', type='area', output='RFweight_after_natural_log',use='attr', attribute_column='weight_after_nat_log', overwrite=True)\n",
    "gscript.run_command('g.region', raster=Land_cover, res=tile_size)\n",
    "#assigning 0 value to pixels that are outside the study area\n",
    "gscript.run_command('r.mapcalc', expression=\"RFweight_after_natural_log_Bis = if( ouaga_population_rast !=0, RFweight_after_natural_log,0)\",overwrite=True)"
   ]
  },
  {
   "cell_type": "code",
   "execution_count": 29,
   "metadata": {
    "collapsed": true
   },
   "outputs": [],
   "source": [
    "#dasymetric mapping\n",
    "gscript.run_command('g.region', raster=Land_cover, res=tile_size)\n",
    "dasymetric_mapping('ouaga_population', 'RFweight_after_natural_log_Bis', 'RF_population_density_after_natural_log','Total')"
   ]
  },
  {
   "cell_type": "markdown",
   "metadata": {},
   "source": [
    "To refine the result, we can set the weight in areas where it is impossible to find population (like dams, forests...) into 0. Then we use this modified weighting layer for the dasymetry."
   ]
  },
  {
   "cell_type": "code",
   "execution_count": 30,
   "metadata": {
    "collapsed": true
   },
   "outputs": [],
   "source": [
    "## creating a mask for zones where it is impossoble to find population (Lakes, aeroport..)\n",
    "gscript.run_command('g.region', raster=Land_cover, res=tile_size)\n",
    "gscript.run_command('r.mapcalc',expression=\"RFweight_after_nat_log_improved = if( proportion_binary_class_11 !=0,RFweight_after_natural_log_Bis,0)\", overwrite=True)\n",
    "dasymetric_mapping('ouaga_population', 'RFweight_after_nat_log_improved', 'RF_population_density_after_nat_log_improved','Total')"
   ]
  },
  {
   "cell_type": "markdown",
   "metadata": {},
   "source": [
    "Now we delete temporary csv files"
   ]
  },
  {
   "cell_type": "code",
   "execution_count": 39,
   "metadata": {
    "collapsed": true
   },
   "outputs": [],
   "source": [
    "os.remove(outputfile+\"\\\\grid_vector.csv\")\n",
    "os.remove(outputfile+\"\\\\\"+vectorLayer+\"_rastTovect.csv\")\n",
    "os.remove(outputfile+\"\\\\weight.csv\")"
   ]
  },
  {
   "cell_type": "markdown",
   "metadata": {},
   "source": [
    "# Part III"
   ]
  },
  {
   "cell_type": "markdown",
   "metadata": {},
   "source": [
    "Here we use the same approach as below but we add a new layer. It's a vector one which descibes the morphological aspect of built up areas. The aim of this part is to rasterize this layer, calculate the proportion of each morphological zone at the grid and the administrative units level. Then, launch the Random Forest model as below. \n",
    "Please run part preparing data of part II before."
   ]
  },
  {
   "cell_type": "markdown",
   "metadata": {},
   "source": [
    "## 1-Preparing data"
   ]
  },
  {
   "cell_type": "markdown",
   "metadata": {},
   "source": [
    "### preparing data : grid level"
   ]
  },
  {
   "cell_type": "markdown",
   "metadata": {},
   "source": [
    "Here we rasterize the vector layer of the morphological zones and we calculate the proportion of each category within each grid using the function of the first part. "
   ]
  },
  {
   "cell_type": "code",
   "execution_count": 32,
   "metadata": {
    "collapsed": false
   },
   "outputs": [
    {
     "data": {
      "text/plain": [
       "0"
      ]
     },
     "execution_count": 32,
     "metadata": {},
     "output_type": "execute_result"
    }
   ],
   "source": [
    "#Rasterize morpho layer\n",
    "gscript.run_command('g.region', raster=Land_cover, nsres=nsres, ewres=ewres)\n",
    "Morpho = 'Decoup_morpho'\n",
    "gscript.run_command('v.to.rast', input=Morpho, output=Morpho+'_rast', use='attr', attribute_column='type',overwrite=True)"
   ]
  },
  {
   "cell_type": "code",
   "execution_count": 33,
   "metadata": {
    "collapsed": true
   },
   "outputs": [],
   "source": [
    "##Extract morpho layer's classes\n",
    "List_morpho = []\n",
    "for cl in (gscript.parse_command('r.category',map= Morpho+'_rast')):\n",
    "    List_morpho.append(cl)"
   ]
  },
  {
   "cell_type": "markdown",
   "metadata": {},
   "source": [
    "Here we need to delete all intermediate layers starting with \"proportion_binary_class\". These are layers for the calculation of the Land Cover's classes. We will recreate them with the proportion of the morphological zones."
   ]
  },
  {
   "cell_type": "code",
   "execution_count": 58,
   "metadata": {
    "collapsed": false
   },
   "outputs": [
    {
     "ename": "CalledModuleError",
     "evalue": "Module run None ['v.db.addcolumn', 'column=proportion_morpho_11 double precision', 'map=grid_vector'] ended with error\nProcess ended with non-zero return code 1. See errors in the (error) output.",
     "output_type": "error",
     "traceback": [
      "\u001b[0;31m---------------------------------------------------------------------------\u001b[0m",
      "\u001b[0;31mCalledModuleError\u001b[0m                         Traceback (most recent call last)",
      "\u001b[0;32m<ipython-input-58-5712a7110294>\u001b[0m in \u001b[0;36m<module>\u001b[0;34m()\u001b[0m\n\u001b[1;32m      2\u001b[0m     \u001b[0mgscript\u001b[0m\u001b[1;33m.\u001b[0m\u001b[0mrun_command\u001b[0m\u001b[1;33m(\u001b[0m\u001b[1;34m'g.region'\u001b[0m\u001b[1;33m,\u001b[0m \u001b[0mraster\u001b[0m\u001b[1;33m=\u001b[0m\u001b[0mLand_cover\u001b[0m\u001b[1;33m,\u001b[0m \u001b[0mnsres\u001b[0m\u001b[1;33m=\u001b[0m\u001b[0mnsres\u001b[0m\u001b[1;33m,\u001b[0m \u001b[0mewres\u001b[0m\u001b[1;33m=\u001b[0m\u001b[0mewres\u001b[0m\u001b[1;33m)\u001b[0m\u001b[1;33m\u001b[0m\u001b[0m\n\u001b[1;32m      3\u001b[0m     \u001b[1;31m#add a new column\u001b[0m\u001b[1;33m\u001b[0m\u001b[1;33m\u001b[0m\u001b[0m\n\u001b[0;32m----> 4\u001b[0;31m     \u001b[0mgscript\u001b[0m\u001b[1;33m.\u001b[0m\u001b[0mrun_command\u001b[0m\u001b[1;33m(\u001b[0m\u001b[1;34m'v.db.addcolumn'\u001b[0m\u001b[1;33m,\u001b[0m \u001b[0mmap_\u001b[0m\u001b[1;33m=\u001b[0m\u001b[1;34m'grid_vector'\u001b[0m\u001b[1;33m,\u001b[0m \u001b[0mcolumn\u001b[0m\u001b[1;33m=\u001b[0m \u001b[1;34m\"proportion_morpho_\"\u001b[0m\u001b[1;33m+\u001b[0m\u001b[0mstr\u001b[0m\u001b[1;33m(\u001b[0m\u001b[0mcl\u001b[0m\u001b[1;33m)\u001b[0m\u001b[1;33m+\u001b[0m\u001b[1;34m\" double precision\"\u001b[0m\u001b[1;33m)\u001b[0m\u001b[1;33m\u001b[0m\u001b[0m\n\u001b[0m\u001b[1;32m      5\u001b[0m     \u001b[1;31m#call a function that calculates the class's proportion\u001b[0m\u001b[1;33m\u001b[0m\u001b[1;33m\u001b[0m\u001b[0m\n\u001b[1;32m      6\u001b[0m     \u001b[0mproportion_morpho\u001b[0m \u001b[1;33m=\u001b[0m \u001b[0mweighting_layer\u001b[0m\u001b[1;33m(\u001b[0m\u001b[0mMorpho\u001b[0m\u001b[1;33m+\u001b[0m\u001b[1;34m'_rast'\u001b[0m\u001b[1;33m,\u001b[0m \u001b[0mnDSM\u001b[0m\u001b[1;33m,\u001b[0m \u001b[0mcl\u001b[0m\u001b[1;33m)\u001b[0m\u001b[1;33m[\u001b[0m\u001b[1;36m1\u001b[0m\u001b[1;33m]\u001b[0m\u001b[1;33m\u001b[0m\u001b[0m\n",
      "\u001b[0;32mC:\\Program Files\\GRASS GIS 7.3.svn\\etc\\python\\grass\\script\\core.py\u001b[0m in \u001b[0;36mrun_command\u001b[0;34m(*args, **kwargs)\u001b[0m\n\u001b[1;32m    419\u001b[0m     \u001b[1;32melse\u001b[0m\u001b[1;33m:\u001b[0m\u001b[1;33m\u001b[0m\u001b[0m\n\u001b[1;32m    420\u001b[0m         \u001b[0mreturncode\u001b[0m \u001b[1;33m=\u001b[0m \u001b[0mps\u001b[0m\u001b[1;33m.\u001b[0m\u001b[0mwait\u001b[0m\u001b[1;33m(\u001b[0m\u001b[1;33m)\u001b[0m\u001b[1;33m\u001b[0m\u001b[0m\n\u001b[0;32m--> 421\u001b[0;31m     \u001b[1;32mreturn\u001b[0m \u001b[0mhandle_errors\u001b[0m\u001b[1;33m(\u001b[0m\u001b[0mreturncode\u001b[0m\u001b[1;33m,\u001b[0m \u001b[0mreturncode\u001b[0m\u001b[1;33m,\u001b[0m \u001b[0margs\u001b[0m\u001b[1;33m,\u001b[0m \u001b[0mkwargs\u001b[0m\u001b[1;33m)\u001b[0m\u001b[1;33m\u001b[0m\u001b[0m\n\u001b[0m\u001b[1;32m    422\u001b[0m \u001b[1;33m\u001b[0m\u001b[0m\n\u001b[1;32m    423\u001b[0m \u001b[1;33m\u001b[0m\u001b[0m\n",
      "\u001b[0;32mC:\\Program Files\\GRASS GIS 7.3.svn\\etc\\python\\grass\\script\\core.py\u001b[0m in \u001b[0;36mhandle_errors\u001b[0;34m(returncode, result, args, kwargs)\u001b[0m\n\u001b[1;32m    330\u001b[0m         \u001b[0margs\u001b[0m \u001b[1;33m=\u001b[0m \u001b[0mmake_command\u001b[0m\u001b[1;33m(\u001b[0m\u001b[1;33m*\u001b[0m\u001b[0margs\u001b[0m\u001b[1;33m,\u001b[0m \u001b[1;33m**\u001b[0m\u001b[0mkwargs\u001b[0m\u001b[1;33m)\u001b[0m\u001b[1;33m\u001b[0m\u001b[0m\n\u001b[1;32m    331\u001b[0m         raise CalledModuleError(module=None, code=repr(args),\n\u001b[0;32m--> 332\u001b[0;31m                                 returncode=returncode)\n\u001b[0m\u001b[1;32m    333\u001b[0m \u001b[1;33m\u001b[0m\u001b[0m\n\u001b[1;32m    334\u001b[0m def start_command(prog, flags=b\"\", overwrite=False, quiet=False,\n",
      "\u001b[0;31mCalledModuleError\u001b[0m: Module run None ['v.db.addcolumn', 'column=proportion_morpho_11 double precision', 'map=grid_vector'] ended with error\nProcess ended with non-zero return code 1. See errors in the (error) output."
     ]
    }
   ],
   "source": [
    "for cl in List_morpho:\n",
    "    gscript.run_command('g.region', raster=Land_cover, nsres=nsres, ewres=ewres)\n",
    "    #add a new column\n",
    "    gscript.run_command('v.db.addcolumn', map_='grid_vector', column= \"proportion_morpho_\"+str(cl)+\" double precision\")\n",
    "    #call a function that calculates the class's proportion\n",
    "    proportion_morpho = weighting_layer(Morpho+'_rast', nDSM, cl)[1]\n",
    "    #filling the attribute table whith this proportion\n",
    "    gscript.run_command('v.what.rast', map_='grid_vector', type='centroid', raster=proportion_morpho, column= \"proportion_morpho_\"+str(cl))"
   ]
  },
  {
   "cell_type": "code",
   "execution_count": null,
   "metadata": {
    "collapsed": true
   },
   "outputs": [],
   "source": [
    "os.remove(outputfile+\"\\\\grid_vector_morpho.csv\")"
   ]
  },
  {
   "cell_type": "code",
   "execution_count": 37,
   "metadata": {
    "collapsed": false
   },
   "outputs": [
    {
     "data": {
      "text/plain": [
       "0"
      ]
     },
     "execution_count": 37,
     "metadata": {},
     "output_type": "execute_result"
    }
   ],
   "source": [
    "outputfile=tempfile.gettempdir()\n",
    "##Export the attribute table to a csv file\n",
    "gscript.run_command('db.out.ogr', input=\"grid_vector\", output= outputfile+\"\\\\grid_vector_morpho.csv\" , format='CSV')"
   ]
  },
  {
   "cell_type": "markdown",
   "metadata": {},
   "source": [
    "We set NULL values,which cause a problem for Random Forest, to 0. "
   ]
  },
  {
   "cell_type": "code",
   "execution_count": 38,
   "metadata": {
    "collapsed": true
   },
   "outputs": [],
   "source": [
    "df_grid_morpho = pd.read_csv(outputfile+\"\\\\grid_vector_morpho.csv\")\n",
    "## changing null values to zero\n",
    "features = df_grid_morpho.columns[:]\n",
    "for i in features:\n",
    "    for j in range(len(df_grid_morpho)):\n",
    "        if(ma.isnan(df_grid_morpho[i].values[j])):\n",
    "            df_grid_morpho[i].values[j] = 0"
   ]
  },
  {
   "cell_type": "markdown",
   "metadata": {},
   "source": [
    "### Preparing data: administrative unit level"
   ]
  },
  {
   "cell_type": "code",
   "execution_count": 40,
   "metadata": {
    "collapsed": true
   },
   "outputs": [],
   "source": [
    "##Calculating classes'proportions within administrative unit\n",
    "for cl in List_morpho:\n",
    "        gscript.run_command('v.rast.stats', map=vectorLayer+'_rastTovect',raster='proportion_binary_class_'+str(cl), column_prefix='proportion_morpho_'+str(cl), method='average', flags='c')"
   ]
  },
  {
   "cell_type": "code",
   "execution_count": 49,
   "metadata": {
    "collapsed": false
   },
   "outputs": [],
   "source": [
    "##Export the attribute table to a csv file\n",
    "gscript.run_command('db.out.ogr', input=vectorLayer+'_rastTovect', output= outputfile+\"\\\\\"+vectorLayer+\"_rastTovect_morpho.csv\" , format='CSV')\n",
    "df_admin_morpho = pd.read_csv(outputfile+\"\\\\\"+vectorLayer+\"_rastTovect_morpho.csv\")"
   ]
  },
  {
   "cell_type": "markdown",
   "metadata": {},
   "source": [
    "## 2-Creation of the Random Forest model and prediction"
   ]
  },
  {
   "cell_type": "code",
   "execution_count": 54,
   "metadata": {
    "collapsed": false
   },
   "outputs": [],
   "source": [
    "\n",
    "xbis1 = df_admin_morpho.loc[:,'proportion_11_average':'proportion_21_average']\n",
    "xbis2=df_admin_morpho.loc[:,'proportion_morpho_11_average':'proportion_morpho_21_average']\n",
    "x = pd.concat((xbis1,xbis2), axis=1)\n",
    "y = df_admin_morpho['natural_log_population_density']\n",
    "x_grid1 = df_grid_morpho.loc[:,'proportion_11':'proportion_21']\n",
    "x_grid2 = df_grid_morpho.loc[:,'proportion_morpho_11':'proportion_morpho_21']\n",
    "x_grid =  pd.concat((x_grid1,x_grid2), axis=1)\n",
    "\n",
    "regressor = RandomForestRegressor(n_estimators = 200, oob_score = True)\n",
    "regressor.fit(x, y)\n",
    "prediction = regressor.predict(x_grid)"
   ]
  },
  {
   "cell_type": "code",
   "execution_count": 56,
   "metadata": {
    "collapsed": false
   },
   "outputs": [
    {
     "name": "stdout",
     "output_type": "stream",
     "text": [
      "    proportion_11_average  proportion_13_average  proportion_14_average  \\\n",
      "0                0.000000              11.538627              19.536898   \n",
      "1               10.249489               8.518775               8.509683   \n",
      "2                0.002967              23.366971              11.919604   \n",
      "3               13.678901               3.335656               2.229031   \n",
      "4                0.000000               0.000000               0.000000   \n",
      "5                0.000000               0.000000               0.000000   \n",
      "6                2.015583              18.099734              27.549633   \n",
      "7               45.393295              11.272553               0.524559   \n",
      "8                0.000000               0.000000               0.000000   \n",
      "9                0.006247               2.105926               0.000000   \n",
      "10               0.231594               0.000000               0.000000   \n",
      "11               2.072112               1.531677               0.000000   \n",
      "12               0.685978               2.065815              31.734125   \n",
      "13               0.000000               0.000000               0.000000   \n",
      "14              45.932238               0.000000               0.000000   \n",
      "15               8.831096              12.607403              28.491726   \n",
      "16               0.000000               0.000000               0.000000   \n",
      "17               0.000000               0.000000               0.000000   \n",
      "18               0.000000               0.000000               0.000000   \n",
      "19               0.000000               0.000000               0.000000   \n",
      "20               0.000000               0.000000               0.000000   \n",
      "21               0.000000               0.000000               0.000000   \n",
      "22               0.000000               0.000000               0.000000   \n",
      "23               0.685978               2.065815              31.734125   \n",
      "24               0.107546               0.000000               0.343851   \n",
      "25              16.188953               0.000000               0.000000   \n",
      "26               0.000000               0.000000               0.000000   \n",
      "27               0.000000               0.000000               0.000000   \n",
      "28               0.000000               0.000000               0.000000   \n",
      "29               0.000000               0.000000               0.000000   \n",
      "..                    ...                    ...                    ...   \n",
      "31               0.000000               0.000000               0.000000   \n",
      "32              75.862266               8.228537               0.000000   \n",
      "33               0.000000               0.000000               0.000000   \n",
      "34              42.587199              12.237311               0.000000   \n",
      "35               0.000000               0.000000               0.000000   \n",
      "36               0.000000               0.000000               0.000000   \n",
      "37               0.000000               0.000000               0.000000   \n",
      "38               2.308282               5.309600              71.736939   \n",
      "39               0.000000               0.000000               0.000000   \n",
      "40               0.181070               0.000000               0.000000   \n",
      "41               3.874538               0.000000              19.164001   \n",
      "42               6.663201              10.299195               0.000000   \n",
      "43               0.752496               5.472983              21.810909   \n",
      "44               0.000000               0.000000               0.000000   \n",
      "45               0.000000               0.000000               0.000000   \n",
      "46               0.000000               0.236492               2.877442   \n",
      "47               0.000000               6.550963              41.685243   \n",
      "48               0.000000               0.000000               0.000000   \n",
      "49               0.000000               0.000000               0.000000   \n",
      "50               0.000000               0.000000               0.000000   \n",
      "51               0.000000              22.893429              35.810755   \n",
      "52              19.218251              20.147620              20.291589   \n",
      "53               0.000000               0.000000               0.000000   \n",
      "54               0.000000              22.893429              35.810755   \n",
      "55               3.238221               0.000000               0.000000   \n",
      "56               5.923858               0.000000               0.000000   \n",
      "57               0.009618               0.000000              20.309085   \n",
      "58               0.009618               0.000000              20.309085   \n",
      "59               0.009618               0.000000              20.309085   \n",
      "60               0.009618               0.000000              20.309085   \n",
      "\n",
      "    proportion_22_average  proportion_33_average  proportion_32_average  \\\n",
      "0               31.531602              10.197794               0.000000   \n",
      "1               19.979756              13.244190               1.770890   \n",
      "2                0.155989              14.990315               3.631049   \n",
      "3                0.071416              14.480168              11.349899   \n",
      "4               82.779202              12.101140               6.321906   \n",
      "5                6.804585              12.660461               2.579035   \n",
      "6               32.149041               8.407887               0.000000   \n",
      "7               13.839593              13.209971               2.834859   \n",
      "8                0.000000               9.770679               2.087500   \n",
      "9                0.587569               7.538485               6.820768   \n",
      "10               0.069530               5.583884               0.199385   \n",
      "11               0.000000               8.501941               0.000000   \n",
      "12               0.009256              15.073368               0.000000   \n",
      "13              12.042304               5.089791              14.616651   \n",
      "14               2.700314               4.952158               0.000000   \n",
      "15              21.694012               8.515845               0.000000   \n",
      "16               7.229118               3.987810              51.067098   \n",
      "17               7.507391               3.178784              24.032106   \n",
      "18               6.804585              12.660461               2.579035   \n",
      "19               0.305357               2.349439               7.121497   \n",
      "20               0.000000               2.220330               0.416580   \n",
      "21               0.000000               4.094878               0.000000   \n",
      "22              31.192403               7.067944               2.599535   \n",
      "23               0.009256              15.073368               0.000000   \n",
      "24              25.000652               6.075574               0.000000   \n",
      "25               0.000000               2.820581               0.000000   \n",
      "26               0.000000               4.054063               5.476142   \n",
      "27               0.000000               8.092157              25.428873   \n",
      "28               0.064575              17.975886               0.000000   \n",
      "29               0.000000               1.963882              36.125965   \n",
      "..                    ...                    ...                    ...   \n",
      "31               0.834193              18.858810              30.230755   \n",
      "32               0.000000               6.486777               0.000000   \n",
      "33               0.000000               4.159688              13.848683   \n",
      "34               0.000000               2.343757               0.000000   \n",
      "35               0.000000               3.107715               5.407692   \n",
      "36               0.000000               4.148204               0.333120   \n",
      "37               0.000000               4.351832              31.130729   \n",
      "38               0.090592              11.377142               0.000000   \n",
      "39               0.000000               6.323928               0.103497   \n",
      "40              21.990782               6.551238               0.000000   \n",
      "41               0.583196               5.342780               3.773262   \n",
      "42               0.000000               9.395689               0.000000   \n",
      "43              64.881474               7.185287               0.000000   \n",
      "44               0.000000               4.171025               0.000000   \n",
      "45               0.000000               3.339656               0.011833   \n",
      "46              21.908401              12.602192               0.009219   \n",
      "47               0.000000              11.126596               0.000000   \n",
      "48               0.385480               6.829947               0.000000   \n",
      "49              11.170633               6.739670               0.000000   \n",
      "50               0.000000              10.272748               0.000000   \n",
      "51              15.368670               9.912741               0.000000   \n",
      "52               0.021946               7.819785               0.000000   \n",
      "53              76.077708               9.572466               0.000000   \n",
      "54              15.368670               9.912741               0.000000   \n",
      "55              84.489313               6.384296               0.000000   \n",
      "56              77.861819               7.260393               0.000000   \n",
      "57               0.009039              20.394807               0.000000   \n",
      "58               0.009039              20.394807               0.000000   \n",
      "59               0.009039              20.394807               0.000000   \n",
      "60               0.009039              20.394807               0.000000   \n",
      "\n",
      "    proportion_31_average  proportion_34_average  proportion_41_average  \\\n",
      "0                0.000000               0.057986               1.512674   \n",
      "1                0.000000               5.063728               4.149244   \n",
      "2                0.000000               0.612613               1.414018   \n",
      "3                0.000000              26.628016               4.498750   \n",
      "4                0.000000               0.912211               1.890753   \n",
      "5                0.000000               3.310891              11.139249   \n",
      "6                0.000000               0.000000               3.977149   \n",
      "7                0.000000               5.038779               6.154603   \n",
      "8                0.000000              10.191869              11.717193   \n",
      "9                0.000000              11.537080               6.530090   \n",
      "10               0.000000               0.148429               6.009029   \n",
      "11               0.000000               2.835830              12.464267   \n",
      "12               0.000000               0.000000               2.769715   \n",
      "13               0.000000               0.000000              25.525398   \n",
      "14               0.000000              12.035133               5.914766   \n",
      "15               0.000000               0.984305               3.557348   \n",
      "16               2.843599               7.931184               5.963793   \n",
      "17               9.883490               0.000000               5.009211   \n",
      "18               0.000000               3.310891              11.139249   \n",
      "19               0.000000               0.000000               6.581156   \n",
      "20               0.000000               0.000000               5.499615   \n",
      "21               0.000000               0.000439               7.212634   \n",
      "22               0.000000              11.575035               7.409660   \n",
      "23               0.000000               0.000000               2.769715   \n",
      "24               0.000000               0.818621               6.524894   \n",
      "25               0.000000               0.218714               7.542629   \n",
      "26               0.000000               0.000000               8.182480   \n",
      "27               0.000000               5.244288               4.435304   \n",
      "28               0.000000               0.000000               3.966951   \n",
      "29              22.087632               0.000000               6.415987   \n",
      "..                    ...                    ...                    ...   \n",
      "31               0.176805               0.000000               3.594509   \n",
      "32               0.000000               0.054556               3.995350   \n",
      "33               0.000000               0.000000               5.938482   \n",
      "34               0.000000               0.000000               5.387922   \n",
      "35               0.000000               0.000000               4.943038   \n",
      "36               0.000000               0.000000               5.281376   \n",
      "37               0.000000               0.226514               4.239293   \n",
      "38               0.000000               0.000000               2.155211   \n",
      "39               0.000000               0.000000               3.534892   \n",
      "40               0.000000               0.000000              11.055729   \n",
      "41               0.000000              11.743196               5.370775   \n",
      "42               0.000000               0.000000               7.520210   \n",
      "43               0.000000               0.000000               3.783284   \n",
      "44               0.000000               0.000000               4.196165   \n",
      "45               0.000000               0.000000               5.316133   \n",
      "46               0.000000               0.000000               2.898178   \n",
      "47               0.000000               0.000000               4.980681   \n",
      "48               0.000000              10.218406               2.760759   \n",
      "49               0.000000               0.034811               2.726033   \n",
      "50               0.000000               0.000000               1.734128   \n",
      "51               0.000000               0.000000               2.995729   \n",
      "52               0.000000               0.000000               3.965269   \n",
      "53               0.000000               0.000000               3.714279   \n",
      "54               0.000000               0.000000               2.995729   \n",
      "55               0.000000               0.000000               3.369568   \n",
      "56               0.000000               0.000000               2.544455   \n",
      "57               0.000000               0.000000               1.430952   \n",
      "58               0.000000               0.000000               1.430952   \n",
      "59               0.000000               0.000000               1.430952   \n",
      "60               0.000000               0.000000               1.430952   \n",
      "\n",
      "    proportion_21_average              ...               \\\n",
      "0                0.000000              ...                \n",
      "1                0.000000              ...                \n",
      "2                0.012798              ...                \n",
      "3               20.684776              ...                \n",
      "4                0.000000              ...                \n",
      "5               38.363057              ...                \n",
      "6                0.000000              ...                \n",
      "7                0.229627              ...                \n",
      "8               61.098165              ...                \n",
      "9               34.290331              ...                \n",
      "10              94.385910              ...                \n",
      "11              69.502647              ...                \n",
      "12               0.000000              ...                \n",
      "13              29.130196              ...                \n",
      "14              34.007321              ...                \n",
      "15               0.000000              ...                \n",
      "16              30.149079              ...                \n",
      "17               4.526971              ...                \n",
      "18              38.363057              ...                \n",
      "19              91.392585              ...                \n",
      "20              98.786799              ...                \n",
      "21              97.529927              ...                \n",
      "22              37.219368              ...                \n",
      "23               0.000000              ...                \n",
      "24              55.632000              ...                \n",
      "25              83.455420              ...                \n",
      "26              84.905852              ...                \n",
      "27              53.729521              ...                \n",
      "28              25.182552              ...                \n",
      "29              37.552105              ...                \n",
      "..                    ...              ...                \n",
      "31              13.835647              ...                \n",
      "32               0.000000              ...                \n",
      "33              81.787411              ...                \n",
      "34              44.826288              ...                \n",
      "35              80.140808              ...                \n",
      "36              82.269406              ...                \n",
      "37              66.995035              ...                \n",
      "38               0.000000              ...                \n",
      "39              79.715323              ...                \n",
      "40              50.195717              ...                \n",
      "41              60.412018              ...                \n",
      "42               0.000000              ...                \n",
      "43               0.183914              ...                \n",
      "44              93.336095              ...                \n",
      "45              81.887071              ...                \n",
      "46               0.000000              ...                \n",
      "47               0.000000              ...                \n",
      "48              79.714170              ...                \n",
      "49              62.687478              ...                \n",
      "50               0.467262              ...                \n",
      "51               0.000000              ...                \n",
      "52               0.000000              ...                \n",
      "53               0.000000              ...                \n",
      "54               0.000000              ...                \n",
      "55               0.000000              ...                \n",
      "56               0.000000              ...                \n",
      "57               0.000000              ...                \n",
      "58               0.000000              ...                \n",
      "59               0.000000              ...                \n",
      "60               0.000000              ...                \n",
      "\n",
      "    proportion_morpho_12_average  proportion_morpho_14_average  \\\n",
      "0                      18.166572                     19.536898   \n",
      "1                       6.129979                      8.509683   \n",
      "2                      24.796714                     11.919604   \n",
      "3                       0.000000                      2.229031   \n",
      "4                       0.000000                      0.000000   \n",
      "5                       0.193998                      0.000000   \n",
      "6                       3.728043                     27.549633   \n",
      "7                       0.000000                      0.524559   \n",
      "8                       0.000000                      0.000000   \n",
      "9                       0.000000                      0.000000   \n",
      "10                      0.000000                      0.000000   \n",
      "11                      0.089896                      0.000000   \n",
      "12                      0.029484                     31.734125   \n",
      "13                      0.000000                      0.000000   \n",
      "14                      0.000000                      0.000000   \n",
      "15                      0.000813                     28.491726   \n",
      "16                      0.000000                      0.000000   \n",
      "17                      0.000000                      0.000000   \n",
      "18                      0.193998                      0.000000   \n",
      "19                      0.000000                      0.000000   \n",
      "20                      0.000000                      0.000000   \n",
      "21                      0.000000                      0.000000   \n",
      "22                      0.000000                      0.000000   \n",
      "23                      0.029484                     31.734125   \n",
      "24                      0.536748                      0.343851   \n",
      "25                      0.000000                      0.000000   \n",
      "26                      0.000000                      0.000000   \n",
      "27                      0.000000                      0.000000   \n",
      "28                      0.293029                      0.000000   \n",
      "29                      0.000000                      0.000000   \n",
      "..                           ...                           ...   \n",
      "31                      0.000000                      0.000000   \n",
      "32                      0.000000                      0.000000   \n",
      "33                      0.000000                      0.000000   \n",
      "34                      0.177222                      0.000000   \n",
      "35                      0.000000                      0.000000   \n",
      "36                      0.000000                      0.000000   \n",
      "37                      0.000000                      0.000000   \n",
      "38                     10.461066                     71.736939   \n",
      "39                      0.000000                      0.000000   \n",
      "40                      6.264716                      0.000000   \n",
      "41                      0.000000                     19.164001   \n",
      "42                     12.513826                      0.000000   \n",
      "43                      1.245498                     21.810909   \n",
      "44                      0.000000                      0.000000   \n",
      "45                      0.000000                      0.000000   \n",
      "46                      0.006420                      2.877442   \n",
      "47                     30.407967                     41.685243   \n",
      "48                      2.846745                      0.000000   \n",
      "49                      5.405848                      0.000000   \n",
      "50                      0.000000                      0.000000   \n",
      "51                      3.728763                     35.810755   \n",
      "52                     13.819348                     20.291589   \n",
      "53                      1.277872                      0.000000   \n",
      "54                      3.728763                     35.810755   \n",
      "55                      0.139068                      0.000000   \n",
      "56                      3.260688                      0.000000   \n",
      "57                      0.013363                     20.309085   \n",
      "58                      0.013363                     20.309085   \n",
      "59                      0.013363                     20.309085   \n",
      "60                      0.013363                     20.309085   \n",
      "\n",
      "    proportion_morpho_22_average  proportion_morpho_23_average  \\\n",
      "0                      31.531602                      0.000000   \n",
      "1                      19.979756                     15.674118   \n",
      "2                       0.155989                      0.000000   \n",
      "3                       0.071416                      0.000000   \n",
      "4                      82.779202                      0.000000   \n",
      "5                       6.804585                      0.000000   \n",
      "6                      32.149041                     10.962934   \n",
      "7                      13.839593                      0.000000   \n",
      "8                       0.000000                      0.000000   \n",
      "9                       0.587569                      0.027920   \n",
      "10                      0.069530                      0.000000   \n",
      "11                      0.000000                      0.000000   \n",
      "12                      0.009256                     64.740101   \n",
      "13                     12.042304                      0.000000   \n",
      "14                      2.700314                      0.049972   \n",
      "15                     21.694012                     14.243647   \n",
      "16                      7.229118                      0.165248   \n",
      "17                      7.507391                     48.893431   \n",
      "18                      6.804585                      0.000000   \n",
      "19                      0.305357                      0.000000   \n",
      "20                      0.000000                      0.000000   \n",
      "21                      0.000000                      0.000000   \n",
      "22                     31.192403                     12.609417   \n",
      "23                      0.009256                     64.740101   \n",
      "24                     25.000652                      0.000000   \n",
      "25                      0.000000                      0.000000   \n",
      "26                      0.000000                      4.953231   \n",
      "27                      0.000000                      0.158348   \n",
      "28                      0.064575                      0.000000   \n",
      "29                      0.000000                      0.000000   \n",
      "..                           ...                           ...   \n",
      "31                      0.834193                      4.439373   \n",
      "32                      0.000000                      6.422188   \n",
      "33                      0.000000                      0.042143   \n",
      "34                      0.000000                      0.000000   \n",
      "35                      0.000000                      7.076662   \n",
      "36                      0.000000                      0.314839   \n",
      "37                      0.000000                      0.141867   \n",
      "38                      0.090592                      2.932652   \n",
      "39                      0.000000                      0.000000   \n",
      "40                     21.990782                      0.000000   \n",
      "41                      0.583196                      0.307352   \n",
      "42                      0.000000                     50.434939   \n",
      "43                     64.881474                      0.000000   \n",
      "44                      0.000000                      0.000000   \n",
      "45                      0.000000                     17.945434   \n",
      "46                     21.908401                     43.064215   \n",
      "47                      0.000000                     16.286903   \n",
      "48                      0.385480                      0.000000   \n",
      "49                     11.170633                      0.023137   \n",
      "50                      0.000000                     70.806445   \n",
      "51                     15.368670                      4.992148   \n",
      "52                      0.021946                      0.074404   \n",
      "53                     76.077708                      4.048435   \n",
      "54                     15.368670                      4.992148   \n",
      "55                     84.489313                      0.000000   \n",
      "56                     77.861819                      0.000000   \n",
      "57                      0.009039                      0.000000   \n",
      "58                      0.009039                      0.000000   \n",
      "59                      0.009039                      0.000000   \n",
      "60                      0.009039                      0.000000   \n",
      "\n",
      "    proportion_morpho_32_average  proportion_morpho_31_average  \\\n",
      "0                       0.000000                      0.000000   \n",
      "1                       1.770890                      0.000000   \n",
      "2                       3.631049                      0.000000   \n",
      "3                      11.349899                      0.000000   \n",
      "4                       6.321906                      0.000000   \n",
      "5                       2.579035                      0.000000   \n",
      "6                       0.000000                      0.000000   \n",
      "7                       2.834859                      0.000000   \n",
      "8                       2.087500                      0.000000   \n",
      "9                       6.820768                      0.000000   \n",
      "10                      0.199385                      0.000000   \n",
      "11                      0.000000                      0.000000   \n",
      "12                      0.000000                      0.000000   \n",
      "13                     14.616651                      0.000000   \n",
      "14                      0.000000                      0.000000   \n",
      "15                      0.000000                      0.000000   \n",
      "16                     51.067098                      2.843599   \n",
      "17                     24.032106                      9.883490   \n",
      "18                      2.579035                      0.000000   \n",
      "19                      7.121497                      0.000000   \n",
      "20                      0.416580                      0.000000   \n",
      "21                      0.000000                      0.000000   \n",
      "22                      2.599535                      0.000000   \n",
      "23                      0.000000                      0.000000   \n",
      "24                      0.000000                      0.000000   \n",
      "25                      0.000000                      0.000000   \n",
      "26                      5.476142                      0.000000   \n",
      "27                     25.428873                      0.000000   \n",
      "28                      0.000000                      0.000000   \n",
      "29                     36.125965                     22.087632   \n",
      "..                           ...                           ...   \n",
      "31                     30.230755                      0.176805   \n",
      "32                      0.000000                      0.000000   \n",
      "33                     13.848683                      0.000000   \n",
      "34                      0.000000                      0.000000   \n",
      "35                      5.407692                      0.000000   \n",
      "36                      0.333120                      0.000000   \n",
      "37                     31.130729                      0.000000   \n",
      "38                      0.000000                      0.000000   \n",
      "39                      0.103497                      0.000000   \n",
      "40                      0.000000                      0.000000   \n",
      "41                      3.773262                      0.000000   \n",
      "42                      0.000000                      0.000000   \n",
      "43                      0.000000                      0.000000   \n",
      "44                      0.000000                      0.000000   \n",
      "45                      0.011833                      0.000000   \n",
      "46                      0.009219                      0.000000   \n",
      "47                      0.000000                      0.000000   \n",
      "48                      0.000000                      0.000000   \n",
      "49                      0.000000                      0.000000   \n",
      "50                      0.000000                      0.000000   \n",
      "51                      0.000000                      0.000000   \n",
      "52                      0.000000                      0.000000   \n",
      "53                      0.000000                      0.000000   \n",
      "54                      0.000000                      0.000000   \n",
      "55                      0.000000                      0.000000   \n",
      "56                      0.000000                      0.000000   \n",
      "57                      0.000000                      0.000000   \n",
      "58                      0.000000                      0.000000   \n",
      "59                      0.000000                      0.000000   \n",
      "60                      0.000000                      0.000000   \n",
      "\n",
      "    proportion_morpho_34_average  proportion_morpho_99_average  \\\n",
      "0                       0.057986                      0.000000   \n",
      "1                       5.063728                      0.000000   \n",
      "2                       0.612613                      0.000000   \n",
      "3                      26.628016                      0.000000   \n",
      "4                       0.912211                      0.000000   \n",
      "5                       3.310891                      0.000000   \n",
      "6                       0.000000                      0.000000   \n",
      "7                       5.038779                      0.000000   \n",
      "8                      10.191869                      0.000000   \n",
      "9                      11.537080                      0.000000   \n",
      "10                      0.148429                      0.000000   \n",
      "11                      2.835830                      0.000000   \n",
      "12                      0.000000                      0.000000   \n",
      "13                      0.000000                      0.000000   \n",
      "14                     12.035133                      0.000000   \n",
      "15                      0.984305                      0.000000   \n",
      "16                      7.931184                      0.000000   \n",
      "17                      0.000000                      1.674614   \n",
      "18                      3.310891                      0.000000   \n",
      "19                      0.000000                      0.000000   \n",
      "20                      0.000000                      0.000000   \n",
      "21                      0.000439                      0.000000   \n",
      "22                     11.575035                      0.000000   \n",
      "23                      0.000000                      0.000000   \n",
      "24                      0.818621                      0.000000   \n",
      "25                      0.218714                      0.000000   \n",
      "26                      0.000000                      0.000000   \n",
      "27                      5.244288                      0.000000   \n",
      "28                      0.000000                      0.000000   \n",
      "29                      0.000000                      0.000000   \n",
      "..                           ...                           ...   \n",
      "31                      0.000000                     48.242871   \n",
      "32                      0.054556                      0.000000   \n",
      "33                      0.000000                      0.000000   \n",
      "34                      0.000000                      0.000000   \n",
      "35                      0.000000                      0.000000   \n",
      "36                      0.000000                      0.000000   \n",
      "37                      0.226514                      1.356693   \n",
      "38                      0.000000                      0.000000   \n",
      "39                      0.000000                      0.000000   \n",
      "40                      0.000000                      0.000000   \n",
      "41                     11.743196                      0.000000   \n",
      "42                      0.000000                      0.000000   \n",
      "43                      0.000000                      0.000000   \n",
      "44                      0.000000                      0.000000   \n",
      "45                      0.000000                      0.000000   \n",
      "46                      0.000000                      0.000000   \n",
      "47                      0.000000                      0.000000   \n",
      "48                     10.218406                      0.000000   \n",
      "49                      0.034811                      0.000000   \n",
      "50                      0.000000                      0.000000   \n",
      "51                      0.000000                      0.000000   \n",
      "52                      0.000000                      0.000000   \n",
      "53                      0.000000                      0.000000   \n",
      "54                      0.000000                      0.000000   \n",
      "55                      0.000000                      0.000000   \n",
      "56                      0.000000                      0.000000   \n",
      "57                      0.000000                      0.000000   \n",
      "58                      0.000000                      0.000000   \n",
      "59                      0.000000                      0.000000   \n",
      "60                      0.000000                      0.000000   \n",
      "\n",
      "    proportion_morpho_0_average  proportion_morpho_21_average  \n",
      "0                     18.914448                      0.000000  \n",
      "1                     22.457869                      0.000000  \n",
      "2                     34.822922                      0.012798  \n",
      "3                     16.326303                     20.684776  \n",
      "4                      9.569454                      0.000000  \n",
      "5                     48.156577                     38.363057  \n",
      "6                      5.065892                      0.000000  \n",
      "7                     19.918023                      0.229627  \n",
      "8                     24.606706                     61.098165  \n",
      "9                     43.764201                     34.290331  \n",
      "10                     4.391735                     94.385910  \n",
      "11                    23.817955                     69.502647  \n",
      "12                     0.000000                      0.000000  \n",
      "13                    36.945300                     29.130196  \n",
      "14                     4.469550                     34.007321  \n",
      "15                     1.763264                      0.000000  \n",
      "16                     0.472307                     30.149079  \n",
      "17                     3.351166                      4.526971  \n",
      "18                    48.156577                     38.363057  \n",
      "19                     1.030952                     91.392585  \n",
      "20                     0.203104                     98.786799  \n",
      "21                     2.320902                     97.529927  \n",
      "22                     4.659847                     37.219368  \n",
      "23                     0.000000                      0.000000  \n",
      "24                    17.419489                     55.632000  \n",
      "25                     0.000000                     83.455420  \n",
      "26                     4.517530                     84.905852  \n",
      "27                     2.962260                     53.729521  \n",
      "28                    54.868461                     25.182552  \n",
      "29                     4.120285                     37.552105  \n",
      "..                          ...                           ...  \n",
      "31                     0.000000                     13.835647  \n",
      "32                     8.959742                      0.000000  \n",
      "33                     4.183415                     81.787411  \n",
      "34                     0.030197                     44.826288  \n",
      "35                     6.652477                     80.140808  \n",
      "36                     6.999955                     82.269406  \n",
      "37                     0.000000                     66.995035  \n",
      "38                     6.588136                      0.000000  \n",
      "39                     0.000000                     79.715323  \n",
      "40                    21.227419                     50.195717  \n",
      "41                     0.000000                     60.412018  \n",
      "42                    19.605058                      0.000000  \n",
      "43                     5.508729                      0.183914  \n",
      "44                     6.479982                     93.336095  \n",
      "45                     0.000000                     81.887071  \n",
      "46                    18.549319                      0.000000  \n",
      "47                     4.265763                      0.000000  \n",
      "48                     6.701137                     79.714170  \n",
      "49                    20.530856                     62.687478  \n",
      "50                    20.532910                      0.467262  \n",
      "51                    16.454512                      0.000000  \n",
      "52                     4.659886                      0.000000  \n",
      "53                    18.449640                      0.000000  \n",
      "54                    16.454512                      0.000000  \n",
      "55                     6.156160                      0.000000  \n",
      "56                     8.189888                      0.000000  \n",
      "57                    35.242494                      0.000000  \n",
      "58                    35.242494                      0.000000  \n",
      "59                    35.242494                      0.000000  \n",
      "60                    35.242494                      0.000000  \n",
      "\n",
      "[61 rows x 23 columns]\n"
     ]
    }
   ],
   "source": [
    "print(x)"
   ]
  },
  {
   "cell_type": "markdown",
   "metadata": {},
   "source": [
    "### Covariates' importance study"
   ]
  },
  {
   "cell_type": "code",
   "execution_count": 55,
   "metadata": {
    "collapsed": false
   },
   "outputs": [
    {
     "data": {
      "image/png": "[encoded data removed]",
      "text/plain": [
       "<matplotlib.figure.Figure at 0x1c531c18>"
      ]
     },
     "metadata": {},
     "output_type": "display_data"
    }
   ],
   "source": [
    "## covariates' importance study\n",
    "importances = regressor.feature_importances_\n",
    "indices = np.argsort(importances)[::-1]\n",
    "x_axis = importances[indices][::-1]\n",
    "idx = indices[::-1]\n",
    "y_axis = range(x.shape[1])\n",
    "plt.scatter(x_axis,y_axis)\n",
    "Labels = []\n",
    "for i in range(x.shape[1]):\n",
    "    Labels.append(x_grid.columns[idx[i]])\n",
    "plt.yticks(y_axis, Labels)\n",
    "plt.title(\"Feature importances\")\n",
    "plt.show()\n"
   ]
  },
  {
   "cell_type": "markdown",
   "metadata": {},
   "source": [
    "## 3-Exploitation of the Random Forest output"
   ]
  },
  {
   "cell_type": "markdown",
   "metadata": {},
   "source": [
    "In this section, we transform the predicted log population density into population density which will be considered as weight. Then, we export the results, we join them with the attribute table of the gridded vector and create a raster whose pixels contain the value of the predicted weight. Finally we use this weighting layer for the dasymetry as above using the [v.area.weigh](https://grass.osgeo.org/grass72/manuals/addons/v.area.weigh.html) "
   ]
  },
  {
   "cell_type": "code",
   "execution_count": 15,
   "metadata": {
    "collapsed": true
   },
   "outputs": [],
   "source": [
    "df1 = df_grid_morpho['cat']\n",
    "df2 = pd.DataFrame(prediction, columns=['log_morpho'])\n",
    "df_weight_morpho = pd.concat((df1,df2), axis=1)"
   ]
  },
  {
   "cell_type": "code",
   "execution_count": 16,
   "metadata": {
    "collapsed": false
   },
   "outputs": [],
   "source": [
    "col = df_weight_morpho.apply ( lambda row : np.exp(row[\"log_morpho\"]), axis = 1 ) \n",
    "df_weight_morpho [\"weight_after_nat_log_morpho\"] = col"
   ]
  },
  {
   "cell_type": "code",
   "execution_count": 17,
   "metadata": {
    "collapsed": true
   },
   "outputs": [],
   "source": [
    "outputfile=tempfile.gettempdir()\n",
    "df_weight_morpho.to_csv(path_or_buf=outputfile+\"\\\\weight_natural_log_morpho.csv\")\n",
    "gscript.run_command('g.region', raster=Land_cover, res=tile_size)\n",
    "# create a csvt file containing columns types\n",
    "f = open(outputfile+\"\\\\weight_natural_log_morpho.csvt\", 'w')\n",
    "header_string = '\"Integer\", \"Integer\",\"Real\",\"Real\"'\n",
    "f.write(header_string)\n",
    "f.close()"
   ]
  },
  {
   "cell_type": "code",
   "execution_count": null,
   "metadata": {
    "collapsed": false
   },
   "outputs": [],
   "source": [
    "#importing the csv to the database\n",
    "gscript.run_command('db.in.ogr', input=outputfile+\"\\\\weight_natural_log_morpho.csv\", output='weight_natural_log_morpho_table', overwrite=True)\n",
    "# join the two tables\n",
    "gscript.run_command('v.db.join', map='grid_vector', column='cat', other_table='weight_natural_log_morpho_table', other_column='cat_')\n",
    "#converting the vector layer to a raster one containing the weight generated by RF\n",
    "gscript.run_command('v.to.rast', input='grid_vector', type='area', output='RFweight_after_natural_log_morpho',use='attr', attribute_column='weight_after_nat_log_morpho', overwrite=True)\n",
    "gscript.run_command('g.region', raster=Land_cover, res=tile_size)\n",
    "#assigning 0 value to pixels that are outside the study area\n",
    "gscript.run_command('r.mapcalc', expression=\"RFweight_after_natural_log_morpho_Bis = if( ouaga_population_rast !=0, RFweight_after_natural_log_morpho,0)\",overwrite=True)"
   ]
  },
  {
   "cell_type": "code",
   "execution_count": 20,
   "metadata": {
    "collapsed": true
   },
   "outputs": [],
   "source": [
    "#dasymetric mapping\n",
    "gscript.run_command('g.region', raster=Land_cover, res=tile_size)\n",
    "dasymetric_mapping('ouaga_population', 'RFweight_after_natural_log_morpho_Bis', 'RF_population_density_after_natural_log_morpho','Total')"
   ]
  },
  {
   "cell_type": "code",
   "execution_count": 24,
   "metadata": {
    "collapsed": true
   },
   "outputs": [],
   "source": [
    "## creating a mask for zones where it is impossoble to find population (Lakes, aeroport..)\n",
    "gscript.run_command('g.region', raster=Land_cover, res=tile_size)\n",
    "gscript.run_command('r.mapcalc',expression=\"RFweight_after_nat_log_morpho_improved = if( proportion_binary_class_11 !=0,RFweight_after_natural_log_morpho_Bis,0)\", overwrite=True)\n",
    "dasymetric_mapping('ouaga_population', 'RFweight_after_nat_log_morpho_improved', 'RF_population_density_after_nat_log_morpho_improved','Total')"
   ]
  },
  {
   "cell_type": "code",
   "execution_count": 25,
   "metadata": {
    "collapsed": false
   },
   "outputs": [
    {
     "data": {
      "text/plain": [
       "0"
      ]
     },
     "execution_count": 25,
     "metadata": {},
     "output_type": "execute_result"
    }
   ],
   "source": [
    "#Difference Map\n",
    "gscript.run_command('r.mapcalc',expression=\"diff_afterLog_morpho_pourcent = ((RF_population_density_after_nat_log_morpho_improved - RF_population_density_after_nat_log_improved )/RF_population_density_after_nat_log_morpho_improved)*100\", overwrite=True)"
   ]
  },
  {
   "cell_type": "markdown",
   "metadata": {},
   "source": [
    "Here we try to modify the weight manually. If:\n",
    "* The proportion of small size built up - very dense is higher than 80% we increase the weight by 90% \n",
    "* The proportion of Large size built up is higher than 80% we decrease the weight by 80% \n",
    "\n",
    "We follow the same steps as below to create a new weighting layer and then to apply the dasymetry "
   ]
  },
  {
   "cell_type": "code",
   "execution_count": 249,
   "metadata": {
    "collapsed": false
   },
   "outputs": [],
   "source": [
    "df_weight_morpho = pd.read_csv(outputfile+\"\\\\weight_natural_log_morpho.csv\")\n",
    "small_size_vdense = df_grid_morpho['proportion_morpho_11']\n",
    "Large_size_vdense = df_grid_morpho['proportion_morpho_31']\n",
    "Large_size_hdense = df_grid_morpho['proportion_morpho_32']\n",
    "Large_size_isolated = df_grid_morpho['proportion_morpho_34']\n",
    "\n",
    "new_weight = df_weight_morpho['weight_after_nat_log_morpho']\n",
    "for i in range(len(df_grid_morpho )):\n",
    "    if((small_size_vdense.values[i]) >= 80):\n",
    "        p = new_weight.values[i]\n",
    "        new_weight.values[i] = p*1.90\n",
    "    elif(((Large_size_vdense.values[i]) >= 80) or ((Large_size_hdense.values[i]) >= 80) or ((Large_size_isolated.values[i]) >= 80)):\n",
    "        p = new_weight.values[i]\n",
    "        new_weight.values[i] = p*0.20\n",
    "        \n",
    "         \n"
   ]
  },
  {
   "cell_type": "code",
   "execution_count": 250,
   "metadata": {
    "collapsed": true
   },
   "outputs": [],
   "source": [
    "df_weight_morpho_bis = pd.concat((df_grid_morpho['cat'],new_weight), axis=1)\n",
    "\n"
   ]
  },
  {
   "cell_type": "code",
   "execution_count": 252,
   "metadata": {
    "collapsed": false
   },
   "outputs": [],
   "source": [
    "df_weight_morpho_bis.to_csv(path_or_buf=outputfile+\"\\\\weight_natural_log_morpho2.csv\")\n"
   ]
  },
  {
   "cell_type": "code",
   "execution_count": 253,
   "metadata": {
    "collapsed": false
   },
   "outputs": [
    {
     "data": {
      "text/plain": [
       "0"
      ]
     },
     "execution_count": 253,
     "metadata": {},
     "output_type": "execute_result"
    }
   ],
   "source": [
    "#importing the csv to the database\n",
    "gscript.run_command('db.in.ogr', input=outputfile+\"\\\\weight_natural_log_morpho2.csv\", output='weight_natural_log_morpho_table', overwrite=True)\n",
    "# join the two tables\n",
    "gscript.run_command('v.db.join', map='grid_vector', column='cat', other_table='weight_natural_log_morpho_table', other_column='cat_')\n"
   ]
  },
  {
   "cell_type": "code",
   "execution_count": 254,
   "metadata": {
    "collapsed": false
   },
   "outputs": [
    {
     "data": {
      "text/plain": [
       "0"
      ]
     },
     "execution_count": 254,
     "metadata": {},
     "output_type": "execute_result"
    }
   ],
   "source": [
    "#converting the vector layer to a raster one containing the weight generated by RF\n",
    "gscript.run_command('v.to.rast', input='grid_vector', type='area', output='RFweight_improved_morpho',use='attr', attribute_column='weight_after_nat_log_morpho', overwrite=True)\n",
    "gscript.run_command('g.region', raster=Land_cover, res=tile_size)\n",
    "#assigning 0 value to pixels that are outside the study area\n",
    "gscript.run_command('r.mapcalc', expression=\"RFweight_improved_morpho_Bis = if( ouaga_population_rast !=0, RFweight_improved_morpho,0)\",overwrite=True)"
   ]
  },
  {
   "cell_type": "code",
   "execution_count": 255,
   "metadata": {
    "collapsed": true
   },
   "outputs": [],
   "source": [
    "#dasymetric mapping\n",
    "gscript.run_command('g.region', raster=Land_cover, res=tile_size)\n",
    "dasymetric_mapping('ouaga_population', 'RFweight_improved_morpho_Bis', 'RF_population_density_morpho_weight_improved','Total')\n",
    "## creating a mask for zones where it is impossoble to find population (Lakes, aeroport..)\n",
    "gscript.run_command('g.region', raster=Land_cover, res=tile_size)\n",
    "gscript.run_command('r.mapcalc',expression=\"RFweight_improved_morpho_Bis_2 = if( proportion_binary_class_11 !=0,RFweight_improved_morpho_Bis,0)\", overwrite=True)\n",
    "dasymetric_mapping('ouaga_population', 'RFweight_improved_morpho_Bis_2', 'RF_population_density_morpho_weight_improved_bis','Total')"
   ]
  },
  {
   "cell_type": "code",
   "execution_count": null,
   "metadata": {
    "collapsed": true
   },
   "outputs": [],
   "source": [
    "#removing intermediate csv files\n",
    "\n",
    "os.remove(outputfile+\"\\\\grid_vector_morpho.csv\")\n",
    "os.remove(outputfile+\"\\\\\"+vectorLayer+\"_rastTovect_morpho.csv\")\n",
    "os.remove(outputfile+\"\\\\weight_natural_log_morpho.csv\")\n",
    "os.remove(outputfile+\"\\\\weight_natural_log_morpho2.csv\")"
   ]
  },
  {
   "cell_type": "markdown",
   "metadata": {},
   "source": [
    "# Part IV : the validation"
   ]
  },
  {
   "cell_type": "markdown",
   "metadata": {},
   "source": [
    "Here we aggregate the administrative unit two by two (sometimes thre is the total number of the administrative units is odd) and we follow these steps:\n",
    "* Create a weighting layer at this level with Random Forest (trained with the aggregated administrative units)\n",
    "* Apply the dasymetry\n",
    "* Disaggregate administrative units \n",
    "* Compare the population within each administrative unit with the census data"
   ]
  },
  {
   "cell_type": "markdown",
   "metadata": {},
   "source": [
    "## Data preparation"
   ]
  },
  {
   "cell_type": "markdown",
   "metadata": {},
   "source": [
    "We add a new column to be used for merging boundaries"
   ]
  },
  {
   "cell_type": "code",
   "execution_count": 29,
   "metadata": {
    "collapsed": false
   },
   "outputs": [
    {
     "data": {
      "text/plain": [
       "0"
      ]
     },
     "execution_count": 29,
     "metadata": {},
     "output_type": "execute_result"
    }
   ],
   "source": [
    "#add a new column\n",
    "gscript.run_command('v.db.addcolumn', map_=vectorLayer+'_rastTovect', column= \"attr_for_merging integer\")"
   ]
  },
  {
   "cell_type": "markdown",
   "metadata": {},
   "source": [
    "Now, you have to fill this column manually. Every two (or three) administrative units have to be filled by the same value.\n",
    "\n",
    "Then, we run [v.dissolve](https://grass.osgeo.org/grass72/manuals/v.dissolve.html) to aggregate them."
   ]
  },
  {
   "cell_type": "code",
   "execution_count": null,
   "metadata": {
    "collapsed": true
   },
   "outputs": [],
   "source": [
    "gscript.run_command('v.dissolve', input=vectorLayer+'_rastTovect', column='attr_for_merging', output=vectorLayer+'_dissolved', , overwrite=True)"
   ]
  },
  {
   "cell_type": "markdown",
   "metadata": {},
   "source": [
    "[v.dissolve](https://grass.osgeo.org/grass72/manuals/v.dissolve.html) dont generate an attribute table. So we need to add one and connect it to the dissolved layer"
   ]
  },
  {
   "cell_type": "code",
   "execution_count": null,
   "metadata": {
    "collapsed": true
   },
   "outputs": [],
   "source": [
    "gscript.run_command('v.db.addtable', map=vectorLayer+'_dissolved')"
   ]
  },
  {
   "cell_type": "markdown",
   "metadata": {},
   "source": [
    "At this stage we need to calculate the new population and area inside each aggregated unit.That will be the sum of their native units values. For that we:\n",
    "* Access to the attribute table of the dissaggregated units via the database\n",
    "* Make an SQL request to calcule the sum of population and area (using GROUP BY att_for_merging)\n",
    "* Export the dataframe into a csv file\n",
    "* Import the csv to GRASS GIS database\n",
    "* Make a juncture between this table and the attribute table of the aggregated units"
   ]
  },
  {
   "cell_type": "code",
   "execution_count": 1,
   "metadata": {
    "collapsed": false
   },
   "outputs": [
    {
     "ename": "NameError",
     "evalue": "name 'gscript' is not defined",
     "output_type": "error",
     "traceback": [
      "\u001b[0;31m---------------------------------------------------------------------------\u001b[0m",
      "\u001b[0;31mNameError\u001b[0m                                 Traceback (most recent call last)",
      "\u001b[0;32m<ipython-input-1-1c5671bf0a7c>\u001b[0m in \u001b[0;36m<module>\u001b[0;34m()\u001b[0m\n\u001b[1;32m      1\u001b[0m \u001b[1;31m## Access to GRASS database\u001b[0m\u001b[1;33m\u001b[0m\u001b[1;33m\u001b[0m\u001b[0m\n\u001b[0;32m----> 2\u001b[0;31m \u001b[0msqlpath\u001b[0m \u001b[1;33m=\u001b[0m \u001b[0mgscript\u001b[0m\u001b[1;33m.\u001b[0m\u001b[0mread_command\u001b[0m\u001b[1;33m(\u001b[0m\u001b[1;34m\"db.databases\"\u001b[0m\u001b[1;33m,\u001b[0m \u001b[0mdriver\u001b[0m\u001b[1;33m=\u001b[0m\u001b[1;34m\"sqlite\"\u001b[0m\u001b[1;33m)\u001b[0m\u001b[1;33m.\u001b[0m\u001b[0mreplace\u001b[0m\u001b[1;33m(\u001b[0m\u001b[1;34m'\\r\\n'\u001b[0m\u001b[1;33m,\u001b[0m \u001b[1;34m''\u001b[0m\u001b[1;33m)\u001b[0m\u001b[1;33m\u001b[0m\u001b[0m\n\u001b[0m\u001b[1;32m      3\u001b[0m \u001b[0msqlpath\u001b[0m \u001b[1;33m=\u001b[0m \u001b[0msqlpath\u001b[0m\u001b[1;33m.\u001b[0m\u001b[0mreplace\u001b[0m\u001b[1;33m(\u001b[0m\u001b[1;34m'/'\u001b[0m\u001b[1;33m,\u001b[0m\u001b[1;34m'\\\\'\u001b[0m\u001b[1;33m)\u001b[0m\u001b[1;33m\u001b[0m\u001b[0m\n\u001b[1;32m      4\u001b[0m \u001b[0mcon\u001b[0m \u001b[1;33m=\u001b[0m \u001b[0msqlite3\u001b[0m\u001b[1;33m.\u001b[0m\u001b[0mconnect\u001b[0m\u001b[1;33m(\u001b[0m\u001b[0msqlpath\u001b[0m\u001b[1;33m)\u001b[0m\u001b[1;33m\u001b[0m\u001b[0m\n\u001b[1;32m      5\u001b[0m \u001b[0msqlstat\u001b[0m\u001b[1;33m=\u001b[0m\u001b[1;34m\"SELECT SUM(Total),SUM(Area),attr_for_merging FROM \"\u001b[0m\u001b[1;33m+\u001b[0m\u001b[0mvectorLayer\u001b[0m\u001b[1;33m+\u001b[0m\u001b[1;34m\"_rastTovect GROUP BY attr_for_merging;\"\u001b[0m\u001b[1;33m\u001b[0m\u001b[0m\n",
      "\u001b[0;31mNameError\u001b[0m: name 'gscript' is not defined"
     ]
    }
   ],
   "source": [
    "## Access to GRASS database\n",
    "sqlpath = gscript.read_command(\"db.databases\", driver=\"sqlite\").replace('\\r\\n', '')\n",
    "sqlpath = sqlpath.replace('/','\\\\')\n",
    "con = sqlite3.connect(sqlpath)\n",
    "sqlstat=\"SELECT SUM(Total),SUM(Area),attr_for_merging FROM \"+vectorLayer+\"_rastTovect GROUP BY attr_for_merging;\"\n",
    "df = pd.read_sql_query(sqlstat, con)\n",
    "con.close()"
   ]
  },
  {
   "cell_type": "code",
   "execution_count": 45,
   "metadata": {
    "collapsed": true
   },
   "outputs": [],
   "source": [
    "outputfile=tempfile.gettempdir()\n",
    "df.to_csv(outputfile+\"\\\\sum.csv\")\n",
    "# create a csvt file containing columns types\n",
    "f = open(outputfile+\"\\\\sum.csvt\", 'w')\n",
    "header_string = '\"Integer\",\"Real\",\"Real\",\"Integer\"'\n",
    "f.write(header_string)\n",
    "f.close()"
   ]
  },
  {
   "cell_type": "code",
   "execution_count": 46,
   "metadata": {
    "collapsed": false
   },
   "outputs": [
    {
     "data": {
      "text/plain": [
       "0"
      ]
     },
     "execution_count": 46,
     "metadata": {},
     "output_type": "execute_result"
    }
   ],
   "source": [
    "# import the csv to database \n",
    "gscript.run_command('db.in.ogr', input=outputfile+\"\\\\sum.csv\", output='sum_table', overwrite=True)\n",
    "# join the two tables\n",
    "gscript.run_command('v.db.join', map=vectorLayer+'_dissolved', column='cat', other_table='sum_table', other_column='attr_for_merging')"
   ]
  },
  {
   "cell_type": "markdown",
   "metadata": {},
   "source": [
    "## Random Forest at the aggregated units level"
   ]
  },
  {
   "cell_type": "markdown",
   "metadata": {},
   "source": [
    "This part is dedicated to create a weighting layer with Random Forest model trained at the aggregated units level. The process is the same as above. The only difference is that the model was trained with 55 units and now with 27."
   ]
  },
  {
   "cell_type": "code",
   "execution_count": 51,
   "metadata": {
    "collapsed": false
   },
   "outputs": [],
   "source": [
    "proportion_class_admin(vectorLayer+'_dissolved')"
   ]
  },
  {
   "cell_type": "code",
   "execution_count": 61,
   "metadata": {
    "collapsed": false
   },
   "outputs": [
    {
     "data": {
      "text/plain": [
       "0"
      ]
     },
     "execution_count": 61,
     "metadata": {},
     "output_type": "execute_result"
    }
   ],
   "source": [
    "#add a new column\n",
    "gscript.run_command('v.db.addcolumn', map_='ouaga_population_dissolved', column= \"natural_log_population_density double precision\")"
   ]
  },
  {
   "cell_type": "code",
   "execution_count": null,
   "metadata": {
    "collapsed": true
   },
   "outputs": [],
   "source": [
    "outputfile=tempfile.gettempdir()"
   ]
  },
  {
   "cell_type": "code",
   "execution_count": 62,
   "metadata": {
    "collapsed": false
   },
   "outputs": [
    {
     "data": {
      "text/plain": [
       "0"
      ]
     },
     "execution_count": 62,
     "metadata": {},
     "output_type": "execute_result"
    }
   ],
   "source": [
    "#exporting the new attribute table\n",
    "gscript.run_command('db.out.ogr',input='ouaga_population_dissolved', output=outputfile+'\\\\admin_table_validation_calc_log.csv',format='CSV',overwrite=True)"
   ]
  },
  {
   "cell_type": "code",
   "execution_count": 66,
   "metadata": {
    "collapsed": false
   },
   "outputs": [],
   "source": [
    "attr_table = pd.read_csv(outputfile+'\\\\admin_table_validation_calc_log.csv')\n",
    "#filling the log population column\n",
    "dens = attr_table['natural_log_population_density']\n",
    "Total = attr_table['Total_population']\n",
    "Area = attr_table['Total_Area']\n",
    "for i in range(len(dens.values)):\n",
    "    dens.values[i]=np.log(Total.values[i]/Area.values[i])\n",
    "#export the dataframe to the csv\n",
    "attr_table.to_csv(path_or_buf=outputfile+'\\\\admin_table_validation_calc_log.csv')"
   ]
  },
  {
   "cell_type": "code",
   "execution_count": null,
   "metadata": {
    "collapsed": true
   },
   "outputs": [],
   "source": [
    "df_admin_natural_log =pd.read_csv(outputfile+'\\\\admin_table_validation_calc_log.csv')\n",
    "df_admin_natural_log.drop_duplicates(inplace=True)\n",
    "gscript.run_command('db.out.ogr', input=\"grid_vector\", output= outputfile+'\\\\grid.csv' , format='CSV')\n",
    "df_grid = pd.read_csv(outputfile+'\\\\grid.csv')"
   ]
  },
  {
   "cell_type": "code",
   "execution_count": 75,
   "metadata": {
    "collapsed": false
   },
   "outputs": [],
   "source": [
    "## changing null values to zero\n",
    "features = df_grid.columns[:]\n",
    "for i in features:\n",
    "    for j in range(len(df_grid)):\n",
    "        if(ma.isnan(df_grid[i].values[j])):\n",
    "            df_grid[i].values[j] = 0\n",
    "            "
   ]
  },
  {
   "cell_type": "code",
   "execution_count": 76,
   "metadata": {
    "collapsed": false
   },
   "outputs": [
    {
     "data": {
      "image/png": "[encoded data removed]",
      "text/plain": [
       "<matplotlib.figure.Figure at 0x138046d8>"
      ]
     },
     "metadata": {},
     "output_type": "display_data"
    }
   ],
   "source": [
    "### RF\n",
    "\n",
    "x = df_admin_natural_log.loc[:,'proportion_11_average':'proportion_21_average']\n",
    "y = df_admin_natural_log['natural_log_population_density']\n",
    "x_grid = df_grid.loc[:,'proportion_11':'proportion_21']\n",
    "regressor = RandomForestRegressor(n_estimators = 200, oob_score = True)\n",
    "regressor.fit(x, y)\n",
    "prediction = regressor.predict(x_grid)\n",
    "## covariates' importance study\n",
    "importances = regressor.feature_importances_\n",
    "indices = np.argsort(importances)[::-1]\n",
    "x_axis = importances[indices][::-1]\n",
    "idx = indices[::-1]\n",
    "y_axis = range(x.shape[1])\n",
    "plt.scatter(x_axis,y_axis)\n",
    "Labels = []\n",
    "for i in range(x.shape[1]):\n",
    "    Labels.append(x_grid.columns[idx[i]])\n",
    "plt.yticks(y_axis, Labels)\n",
    "plt.title(\"Feature importances\")\n",
    "plt.show()"
   ]
  },
  {
   "cell_type": "code",
   "execution_count": 77,
   "metadata": {
    "collapsed": false
   },
   "outputs": [
    {
     "ename": "CalledModuleError",
     "evalue": "Module run None ['v.to.rast', '--o', 'output=weight_dissolved', 'use=attr', 'type=area', 'attribute_column=weight_after_nat_log_morpho', 'input=grid_vector'] ended with error\nProcess ended with non-zero return code 1. See errors in the (error) output.",
     "output_type": "error",
     "traceback": [
      "\u001b[0;31m---------------------------------------------------------------------------\u001b[0m",
      "\u001b[0;31mCalledModuleError\u001b[0m                         Traceback (most recent call last)",
      "\u001b[0;32m<ipython-input-77-24062c9bc626>\u001b[0m in \u001b[0;36m<module>\u001b[0;34m()\u001b[0m\n\u001b[1;32m     17\u001b[0m \u001b[0mgscript\u001b[0m\u001b[1;33m.\u001b[0m\u001b[0mrun_command\u001b[0m\u001b[1;33m(\u001b[0m\u001b[1;34m'v.db.join'\u001b[0m\u001b[1;33m,\u001b[0m \u001b[0mmap\u001b[0m\u001b[1;33m=\u001b[0m\u001b[1;34m'grid_vector'\u001b[0m\u001b[1;33m,\u001b[0m \u001b[0mcolumn\u001b[0m\u001b[1;33m=\u001b[0m\u001b[1;34m'cat'\u001b[0m\u001b[1;33m,\u001b[0m \u001b[0mother_table\u001b[0m\u001b[1;33m=\u001b[0m\u001b[1;34m'weight_natural_log_morpho_table'\u001b[0m\u001b[1;33m,\u001b[0m \u001b[0mother_column\u001b[0m\u001b[1;33m=\u001b[0m\u001b[1;34m'cat_'\u001b[0m\u001b[1;33m)\u001b[0m\u001b[1;33m\u001b[0m\u001b[0m\n\u001b[1;32m     18\u001b[0m \u001b[1;31m#converting the vector layer to a raster one containing the weight generated by RF\u001b[0m\u001b[1;33m\u001b[0m\u001b[1;33m\u001b[0m\u001b[0m\n\u001b[0;32m---> 19\u001b[0;31m \u001b[0mgscript\u001b[0m\u001b[1;33m.\u001b[0m\u001b[0mrun_command\u001b[0m\u001b[1;33m(\u001b[0m\u001b[1;34m'v.to.rast'\u001b[0m\u001b[1;33m,\u001b[0m \u001b[0minput\u001b[0m\u001b[1;33m=\u001b[0m\u001b[1;34m'grid_vector'\u001b[0m\u001b[1;33m,\u001b[0m \u001b[0mtype\u001b[0m\u001b[1;33m=\u001b[0m\u001b[1;34m'area'\u001b[0m\u001b[1;33m,\u001b[0m \u001b[0moutput\u001b[0m\u001b[1;33m=\u001b[0m\u001b[1;34m'weight_dissolved'\u001b[0m\u001b[1;33m,\u001b[0m\u001b[0muse\u001b[0m\u001b[1;33m=\u001b[0m\u001b[1;34m'attr'\u001b[0m\u001b[1;33m,\u001b[0m \u001b[0mattribute_column\u001b[0m\u001b[1;33m=\u001b[0m\u001b[1;34m'weight_after_nat_log_morpho'\u001b[0m\u001b[1;33m,\u001b[0m \u001b[0moverwrite\u001b[0m\u001b[1;33m=\u001b[0m\u001b[0mTrue\u001b[0m\u001b[1;33m)\u001b[0m\u001b[1;33m\u001b[0m\u001b[0m\n\u001b[0m\u001b[1;32m     20\u001b[0m \u001b[0mgscript\u001b[0m\u001b[1;33m.\u001b[0m\u001b[0mrun_command\u001b[0m\u001b[1;33m(\u001b[0m\u001b[1;34m'g.region'\u001b[0m\u001b[1;33m,\u001b[0m \u001b[0mraster\u001b[0m\u001b[1;33m=\u001b[0m\u001b[0mLand_cover\u001b[0m\u001b[1;33m,\u001b[0m \u001b[0mres\u001b[0m\u001b[1;33m=\u001b[0m\u001b[0mtile_size\u001b[0m\u001b[1;33m)\u001b[0m\u001b[1;33m\u001b[0m\u001b[0m\n\u001b[1;32m     21\u001b[0m \u001b[1;31m#assigning 0 value to pixels that are outside the study area\u001b[0m\u001b[1;33m\u001b[0m\u001b[1;33m\u001b[0m\u001b[0m\n",
      "\u001b[0;32mC:\\Program Files\\GRASS GIS 7.3.svn\\etc\\python\\grass\\script\\core.py\u001b[0m in \u001b[0;36mrun_command\u001b[0;34m(*args, **kwargs)\u001b[0m\n\u001b[1;32m    419\u001b[0m     \u001b[1;32melse\u001b[0m\u001b[1;33m:\u001b[0m\u001b[1;33m\u001b[0m\u001b[0m\n\u001b[1;32m    420\u001b[0m         \u001b[0mreturncode\u001b[0m \u001b[1;33m=\u001b[0m \u001b[0mps\u001b[0m\u001b[1;33m.\u001b[0m\u001b[0mwait\u001b[0m\u001b[1;33m(\u001b[0m\u001b[1;33m)\u001b[0m\u001b[1;33m\u001b[0m\u001b[0m\n\u001b[0;32m--> 421\u001b[0;31m     \u001b[1;32mreturn\u001b[0m \u001b[0mhandle_errors\u001b[0m\u001b[1;33m(\u001b[0m\u001b[0mreturncode\u001b[0m\u001b[1;33m,\u001b[0m \u001b[0mreturncode\u001b[0m\u001b[1;33m,\u001b[0m \u001b[0margs\u001b[0m\u001b[1;33m,\u001b[0m \u001b[0mkwargs\u001b[0m\u001b[1;33m)\u001b[0m\u001b[1;33m\u001b[0m\u001b[0m\n\u001b[0m\u001b[1;32m    422\u001b[0m \u001b[1;33m\u001b[0m\u001b[0m\n\u001b[1;32m    423\u001b[0m \u001b[1;33m\u001b[0m\u001b[0m\n",
      "\u001b[0;32mC:\\Program Files\\GRASS GIS 7.3.svn\\etc\\python\\grass\\script\\core.py\u001b[0m in \u001b[0;36mhandle_errors\u001b[0;34m(returncode, result, args, kwargs)\u001b[0m\n\u001b[1;32m    330\u001b[0m         \u001b[0margs\u001b[0m \u001b[1;33m=\u001b[0m \u001b[0mmake_command\u001b[0m\u001b[1;33m(\u001b[0m\u001b[1;33m*\u001b[0m\u001b[0margs\u001b[0m\u001b[1;33m,\u001b[0m \u001b[1;33m**\u001b[0m\u001b[0mkwargs\u001b[0m\u001b[1;33m)\u001b[0m\u001b[1;33m\u001b[0m\u001b[0m\n\u001b[1;32m    331\u001b[0m         raise CalledModuleError(module=None, code=repr(args),\n\u001b[0;32m--> 332\u001b[0;31m                                 returncode=returncode)\n\u001b[0m\u001b[1;32m    333\u001b[0m \u001b[1;33m\u001b[0m\u001b[0m\n\u001b[1;32m    334\u001b[0m def start_command(prog, flags=b\"\", overwrite=False, quiet=False,\n",
      "\u001b[0;31mCalledModuleError\u001b[0m: Module run None ['v.to.rast', '--o', 'output=weight_dissolved', 'use=attr', 'type=area', 'attribute_column=weight_after_nat_log_morpho', 'input=grid_vector'] ended with error\nProcess ended with non-zero return code 1. See errors in the (error) output."
     ]
    }
   ],
   "source": [
    "df1 = df_grid['cat']\n",
    "df2 = pd.DataFrame(prediction, columns=['log_morpho'])\n",
    "df_weight = pd.concat((df1,df2), axis=1)\n",
    "\n",
    "col = df_weight.apply ( lambda row : np.exp(row[\"log_morpho\"]), axis = 1 ) \n",
    "df_weight [\"weight_after_nat_log\"] = col\n",
    "df_weight.to_csv(path_or_buf=outputfile+\"\\\\grid_weight.csv\")\n",
    "gscript.run_command('g.region', raster=Land_cover, res=tile_size)\n",
    "# create a csvt file containing columns types\n",
    "f = open(outputfile+\"\\\\grid_weight.csvt\", 'w')\n",
    "header_string = '\"Integer\", \"Integer\",\"Real\",\"Real\"'\n",
    "f.write(header_string)\n",
    "f.close()\n",
    "#importing the csv to the database\n",
    "gscript.run_command('db.in.ogr', input=outputfile+\"\\\\grid_weight.csv\", output='weight_natural_log_morpho_table', overwrite=True)\n",
    "# join the two tables\n",
    "gscript.run_command('v.db.join', map='grid_vector', column='cat', other_table='weight_natural_log_morpho_table', other_column='cat_')\n"
   ]
  },
  {
   "cell_type": "code",
   "execution_count": 79,
   "metadata": {
    "collapsed": false
   },
   "outputs": [
    {
     "data": {
      "text/plain": [
       "0"
      ]
     },
     "execution_count": 79,
     "metadata": {},
     "output_type": "execute_result"
    }
   ],
   "source": [
    "#converting the vector layer to a raster one containing the weight generated by RF\n",
    "gscript.run_command('v.to.rast', input='grid_vector', type='area', output='weight_dissolved',use='attr', attribute_column='weight_after_nat_log', overwrite=True)\n",
    "gscript.run_command('g.region', raster=Land_cover, res=tile_size)\n",
    "#assigning 0 value to pixels that are outside the study area\n",
    "gscript.run_command('r.mapcalc', expression=\"weight_dissolved = if( ouaga_population_rast !=0, weight_dissolved,0)\",overwrite=True)"
   ]
  },
  {
   "cell_type": "code",
   "execution_count": 83,
   "metadata": {
    "collapsed": true
   },
   "outputs": [],
   "source": [
    "# Dasymetry : only LC\n",
    "gscript.run_command('g.region', raster= Land_cover, res=tile_size)\n",
    "dasymetric_mapping('ouaga_population_dissolved', 'weight_dissolved', 'pop_density_dissolved','Total_population')"
   ]
  },
  {
   "cell_type": "markdown",
   "metadata": {},
   "source": [
    "Now, we have a population density map which is created with a Random Forest model trained with aggregated administrative units. These steps are then followed:\n",
    "* population is calculated inside each disaggregated administrative unit and compared to the census data\n",
    "* the %error is calculated (difference between predicted and observed data in pourcent)\n",
    "* the attribute table of disaggregated units is filled with these errors\n",
    "* the Root Mean Square Error (RMSE) is calculated\n"
   ]
  },
  {
   "cell_type": "code",
   "execution_count": 101,
   "metadata": {
    "collapsed": false
   },
   "outputs": [],
   "source": [
    "gscript.run_command('g.region', raster= Land_cover, res=tile_size)\n",
    "gscript.run_command('v.rast.stats', map='ouaga_population_rastTovect', raster='pop_density_dissolved', column_prefix='Total_validation_dissolved', method='sum')\n",
    "##Export the attribute table to a csv file\n",
    "gscript.run_command('db.out.ogr', input='ouaga_population_rastTovect', output= outputfile+'\\\\validation.csv' , format='CSV')\n",
    "df_admin_new_Total = pd.read_csv( outputfile+'\\\\validation.csv') \n",
    "Total = df_admin_new_Total.loc[:,'Total']\n",
    "new_Total = df_admin_new_Total.loc[:,'Total_validation_dissolved_sum']"
   ]
  },
  {
   "cell_type": "code",
   "execution_count": 102,
   "metadata": {
    "collapsed": false
   },
   "outputs": [
    {
     "data": {
      "text/plain": [
       "0"
      ]
     },
     "execution_count": 102,
     "metadata": {},
     "output_type": "execute_result"
    }
   ],
   "source": [
    "\n",
    "error_list = []\n",
    "for i in range(len(Total.values)):\n",
    "    error = ((new_Total.values[i] - Total.values[i])/ Total.values[i])*100\n",
    "    error_list.append(error)\n",
    "df1 = df_admin_new_Total['cat']\n",
    "df2 = pd.DataFrame(error_list, columns=['error'])\n",
    "df_error = pd.concat((df1,df2), axis=1)\n",
    "df_error.to_csv(path_or_buf= outputfile+'\\\\error.csv') \n",
    "# create a csvt file containing columns types\n",
    "f = open(outputfile+'\\\\error.csvt', 'w')\n",
    "header_string = '\"Integer\", \"Integer\",\"Real\"'\n",
    "f.write(header_string)\n",
    "f.close()\n",
    "#importing the csv to the database\n",
    "gscript.run_command('db.in.ogr', input=outputfile+'\\\\error.csv', output='error_table_in', overwrite=True)\n",
    "# join the two tables\n",
    "gscript.run_command('v.db.join', map=vectorLayer+'_rastTovect', column='cat', other_table='error_table_in', other_column='cat_')\n"
   ]
  },
  {
   "cell_type": "code",
   "execution_count": 105,
   "metadata": {
    "collapsed": false
   },
   "outputs": [
    {
     "name": "stdout",
     "output_type": "stream",
     "text": [
      "(7572.0695462457334, 21.74632264860923, 1915102)\n"
     ]
    }
   ],
   "source": [
    "df_admin_new_Total = pd.read_csv(outputfile+'\\\\validation.csv')\n",
    "predicted = df_admin_new_Total.loc[:,'Total_validation_dissolved_sum']\n",
    "observed = df_admin_new_Total.loc[:,'Total']\n",
    "s = 0\n",
    "somme = 0\n",
    "n = len(observed.values)\n",
    "for i in range(n):\n",
    "    somme += observed.values[i]\n",
    "    s+=((predicted.values[i]) -(observed.values[i])) **2\n",
    "rmse = np.sqrt(s/n)\n",
    "rmse_pourcent = (rmse / (somme/n))*100\n",
    "# R²\n",
    "corr = np.corrcoef(Observations,Predictions)\n",
    "r_squared = corr**2\n",
    "print(rmse,rmse_pourcent,r_squared[0,1])\n",
    "# Plot\n",
    "fig, ax = plt.subplots()\n",
    "ax.scatter(observed, predicted)\n",
    "ax.plot([observed.min(), observed.max()], [predicted.min(), predicted.max()], 'k--', lw=4)\n",
    "ax.set_xlabel('Observed')\n",
    "ax.set_ylabel('Predicted')\n",
    "plt.show()"
   ]
  },
  {
   "cell_type": "code",
   "execution_count": null,
   "metadata": {
    "collapsed": true
   },
   "outputs": [],
   "source": [
    "# deleting intermediate files\n",
    "os.remove(outputfile+'\\\\validation.csv')\n",
    "os.remove(outputfile+'\\\\error.csvt')\n",
    "os.remove(outputfile+'\\\\error.csv')\n",
    "os.remove(outputfile+\"\\\\grid_weight.csvt\")\n",
    "os.remove(outputfile+\"\\\\grid_weight.csv\")\n",
    "os.remove(outputfile+'\\\\grid.csv')\n",
    "os.remove(outputfile+'\\\\admin_table_validation_calc_log.csv')"
   ]
  }
 ],
 "metadata": {
  "kernelspec": {
   "display_name": "Python 2",
   "language": "python",
   "name": "python2"
  },
  "language_info": {
   "codemirror_mode": {
    "name": "ipython",
    "version": 2
   },
   "file_extension": ".py",
   "mimetype": "text/x-python",
   "name": "python",
   "nbconvert_exporter": "python",
   "pygments_lexer": "ipython2",
   "version": "2.7.13"
  }
 },
 "nbformat": 4,
 "nbformat_minor": 2
}
